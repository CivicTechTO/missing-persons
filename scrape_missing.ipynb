{
 "cells": [
  {
   "cell_type": "code",
   "execution_count": 1,
   "id": "15360575",
   "metadata": {},
   "outputs": [],
   "source": [
    "#ignore warning\n",
    "import warnings\n",
    "warnings.filterwarnings('ignore')"
   ]
  },
  {
   "cell_type": "code",
   "execution_count": 2,
   "id": "f9abdd22",
   "metadata": {},
   "outputs": [],
   "source": [
    "# Import Selenium and BeautifulSoup\n",
    "from bs4 import BeautifulSoup as soup\n",
    "import pandas as pd\n",
    "from selenium import webdriver\n",
    "import requests\n",
    "from random import randint\n",
    "from time import sleep"
   ]
  },
  {
   "cell_type": "code",
   "execution_count": 3,
   "id": "4d2a9310",
   "metadata": {},
   "outputs": [],
   "source": [
    "#If we have to run Selenium in headless mode; that is without seeing the graphics interface running use below code\n",
    "from selenium.webdriver.chrome.options import Options\n",
    "driver = webdriver.Chrome('C:\\webdrivers\\chromedriver.exe')\n",
    "\n",
    "chrome_options = Options()\n",
    "chrome_options.add_argument(\"--headless\")\n",
    "driver = webdriver.Chrome(options=chrome_options)"
   ]
  },
  {
   "cell_type": "code",
   "execution_count": 4,
   "id": "fe1291bb",
   "metadata": {},
   "outputs": [],
   "source": [
    "\n",
    "# 1. Use browser to visit the URL \n",
    "url = 'https://www.services.rcmp-grc.gc.ca/missing-disparus/search-recherche.jsf'\n",
    "\n",
    "driver.get(url)"
   ]
  },
  {
   "cell_type": "code",
   "execution_count": 5,
   "id": "f20f4681",
   "metadata": {},
   "outputs": [],
   "source": [
    "sleep(2)  # sleep for two second in the beginning of page and then scroll to the bottom of the page\n",
    "driver.execute_script(\"window.scrollTo(0, document.body.scrollHeight);\")\n",
    "sleep(4) #sleep to get all the items loaded\n",
    "\n",
    "content = driver.find_element_by_xpath(\"/html/body/main/form/div[4]/ul/li[1]/input\")\n",
    "\n",
    "content.click()"
   ]
  },
  {
   "cell_type": "code",
   "execution_count": 6,
   "id": "a7dc609a",
   "metadata": {},
   "outputs": [
    {
     "ename": "ElementClickInterceptedException",
     "evalue": "Message: element click intercepted: Element <a href=\"/missing-disparus/case-dossier.jsf?case=2019019954&amp;id=0\" class=\"wet-newwindow\">...</a> is not clickable at point (173, 590). Other element would receive the click: <h3 class=\"panel-title\">...</h3>\n  (Session info: headless chrome=101.0.4951.54)\nStacktrace:\nBacktrace:\n\tOrdinal0 [0x0053B8F3+2406643]\n\tOrdinal0 [0x004CAF31+1945393]\n\tOrdinal0 [0x003BC748+837448]\n\tOrdinal0 [0x003EFA1B+1047067]\n\tOrdinal0 [0x003ED9F8+1038840]\n\tOrdinal0 [0x003EB6DB+1029851]\n\tOrdinal0 [0x003EA439+1025081]\n\tOrdinal0 [0x003E0083+983171]\n\tOrdinal0 [0x0040427C+1131132]\n\tOrdinal0 [0x003DFA64+981604]\n\tOrdinal0 [0x00404494+1131668]\n\tOrdinal0 [0x00414682+1197698]\n\tOrdinal0 [0x00404096+1130646]\n\tOrdinal0 [0x003DE636+976438]\n\tOrdinal0 [0x003DF546+980294]\n\tGetHandleVerifier [0x007A9612+2498066]\n\tGetHandleVerifier [0x0079C920+2445600]\n\tGetHandleVerifier [0x005D4F2A+579370]\n\tGetHandleVerifier [0x005D3D36+574774]\n\tOrdinal0 [0x004D1C0B+1973259]\n\tOrdinal0 [0x004D6688+1992328]\n\tOrdinal0 [0x004D6775+1992565]\n\tOrdinal0 [0x004DF8D1+2029777]\n\tBaseThreadInitThunk [0x7661FA29+25]\n\tRtlGetAppContainerNamedObjectPath [0x77AF7A7E+286]\n\tRtlGetAppContainerNamedObjectPath [0x77AF7A4E+238]\n",
     "output_type": "error",
     "traceback": [
      "\u001b[1;31m---------------------------------------------------------------------------\u001b[0m",
      "\u001b[1;31mElementClickInterceptedException\u001b[0m          Traceback (most recent call last)",
      "\u001b[1;32m<ipython-input-6-1a9bf113f60b>\u001b[0m in \u001b[0;36m<module>\u001b[1;34m\u001b[0m\n\u001b[0;32m     13\u001b[0m \u001b[0mactions\u001b[0m\u001b[1;33m.\u001b[0m\u001b[0mmove_to_element\u001b[0m\u001b[1;33m(\u001b[0m\u001b[0mnew_content\u001b[0m\u001b[1;33m)\u001b[0m\u001b[1;33m.\u001b[0m\u001b[0mperform\u001b[0m\u001b[1;33m(\u001b[0m\u001b[1;33m)\u001b[0m\u001b[1;33m\u001b[0m\u001b[1;33m\u001b[0m\u001b[0m\n\u001b[0;32m     14\u001b[0m \u001b[0msleep\u001b[0m\u001b[1;33m(\u001b[0m\u001b[1;36m0.5\u001b[0m\u001b[1;33m)\u001b[0m\u001b[1;33m\u001b[0m\u001b[1;33m\u001b[0m\u001b[0m\n\u001b[1;32m---> 15\u001b[1;33m \u001b[0mnew_content\u001b[0m\u001b[1;33m.\u001b[0m\u001b[0mclick\u001b[0m\u001b[1;33m(\u001b[0m\u001b[1;33m)\u001b[0m\u001b[1;33m\u001b[0m\u001b[1;33m\u001b[0m\u001b[0m\n\u001b[0m",
      "\u001b[1;32m~\\.conda\\envs\\PythonData\\lib\\site-packages\\selenium\\webdriver\\remote\\webelement.py\u001b[0m in \u001b[0;36mclick\u001b[1;34m(self)\u001b[0m\n\u001b[0;32m     79\u001b[0m     \u001b[1;32mdef\u001b[0m \u001b[0mclick\u001b[0m\u001b[1;33m(\u001b[0m\u001b[0mself\u001b[0m\u001b[1;33m)\u001b[0m \u001b[1;33m->\u001b[0m \u001b[1;32mNone\u001b[0m\u001b[1;33m:\u001b[0m\u001b[1;33m\u001b[0m\u001b[1;33m\u001b[0m\u001b[0m\n\u001b[0;32m     80\u001b[0m         \u001b[1;34m\"\"\"Clicks the element.\"\"\"\u001b[0m\u001b[1;33m\u001b[0m\u001b[1;33m\u001b[0m\u001b[0m\n\u001b[1;32m---> 81\u001b[1;33m         \u001b[0mself\u001b[0m\u001b[1;33m.\u001b[0m\u001b[0m_execute\u001b[0m\u001b[1;33m(\u001b[0m\u001b[0mCommand\u001b[0m\u001b[1;33m.\u001b[0m\u001b[0mCLICK_ELEMENT\u001b[0m\u001b[1;33m)\u001b[0m\u001b[1;33m\u001b[0m\u001b[1;33m\u001b[0m\u001b[0m\n\u001b[0m\u001b[0;32m     82\u001b[0m \u001b[1;33m\u001b[0m\u001b[0m\n\u001b[0;32m     83\u001b[0m     \u001b[1;32mdef\u001b[0m \u001b[0msubmit\u001b[0m\u001b[1;33m(\u001b[0m\u001b[0mself\u001b[0m\u001b[1;33m)\u001b[0m\u001b[1;33m:\u001b[0m\u001b[1;33m\u001b[0m\u001b[1;33m\u001b[0m\u001b[0m\n",
      "\u001b[1;32m~\\.conda\\envs\\PythonData\\lib\\site-packages\\selenium\\webdriver\\remote\\webelement.py\u001b[0m in \u001b[0;36m_execute\u001b[1;34m(self, command, params)\u001b[0m\n\u001b[0;32m    708\u001b[0m             \u001b[0mparams\u001b[0m \u001b[1;33m=\u001b[0m \u001b[1;33m{\u001b[0m\u001b[1;33m}\u001b[0m\u001b[1;33m\u001b[0m\u001b[1;33m\u001b[0m\u001b[0m\n\u001b[0;32m    709\u001b[0m         \u001b[0mparams\u001b[0m\u001b[1;33m[\u001b[0m\u001b[1;34m'id'\u001b[0m\u001b[1;33m]\u001b[0m \u001b[1;33m=\u001b[0m \u001b[0mself\u001b[0m\u001b[1;33m.\u001b[0m\u001b[0m_id\u001b[0m\u001b[1;33m\u001b[0m\u001b[1;33m\u001b[0m\u001b[0m\n\u001b[1;32m--> 710\u001b[1;33m         \u001b[1;32mreturn\u001b[0m \u001b[0mself\u001b[0m\u001b[1;33m.\u001b[0m\u001b[0m_parent\u001b[0m\u001b[1;33m.\u001b[0m\u001b[0mexecute\u001b[0m\u001b[1;33m(\u001b[0m\u001b[0mcommand\u001b[0m\u001b[1;33m,\u001b[0m \u001b[0mparams\u001b[0m\u001b[1;33m)\u001b[0m\u001b[1;33m\u001b[0m\u001b[1;33m\u001b[0m\u001b[0m\n\u001b[0m\u001b[0;32m    711\u001b[0m \u001b[1;33m\u001b[0m\u001b[0m\n\u001b[0;32m    712\u001b[0m     \u001b[1;32mdef\u001b[0m \u001b[0mfind_element\u001b[0m\u001b[1;33m(\u001b[0m\u001b[0mself\u001b[0m\u001b[1;33m,\u001b[0m \u001b[0mby\u001b[0m\u001b[1;33m=\u001b[0m\u001b[0mBy\u001b[0m\u001b[1;33m.\u001b[0m\u001b[0mID\u001b[0m\u001b[1;33m,\u001b[0m \u001b[0mvalue\u001b[0m\u001b[1;33m=\u001b[0m\u001b[1;32mNone\u001b[0m\u001b[1;33m)\u001b[0m\u001b[1;33m:\u001b[0m\u001b[1;33m\u001b[0m\u001b[1;33m\u001b[0m\u001b[0m\n",
      "\u001b[1;32m~\\.conda\\envs\\PythonData\\lib\\site-packages\\selenium\\webdriver\\remote\\webdriver.py\u001b[0m in \u001b[0;36mexecute\u001b[1;34m(self, driver_command, params)\u001b[0m\n\u001b[0;32m    422\u001b[0m         \u001b[0mresponse\u001b[0m \u001b[1;33m=\u001b[0m \u001b[0mself\u001b[0m\u001b[1;33m.\u001b[0m\u001b[0mcommand_executor\u001b[0m\u001b[1;33m.\u001b[0m\u001b[0mexecute\u001b[0m\u001b[1;33m(\u001b[0m\u001b[0mdriver_command\u001b[0m\u001b[1;33m,\u001b[0m \u001b[0mparams\u001b[0m\u001b[1;33m)\u001b[0m\u001b[1;33m\u001b[0m\u001b[1;33m\u001b[0m\u001b[0m\n\u001b[0;32m    423\u001b[0m         \u001b[1;32mif\u001b[0m \u001b[0mresponse\u001b[0m\u001b[1;33m:\u001b[0m\u001b[1;33m\u001b[0m\u001b[1;33m\u001b[0m\u001b[0m\n\u001b[1;32m--> 424\u001b[1;33m             \u001b[0mself\u001b[0m\u001b[1;33m.\u001b[0m\u001b[0merror_handler\u001b[0m\u001b[1;33m.\u001b[0m\u001b[0mcheck_response\u001b[0m\u001b[1;33m(\u001b[0m\u001b[0mresponse\u001b[0m\u001b[1;33m)\u001b[0m\u001b[1;33m\u001b[0m\u001b[1;33m\u001b[0m\u001b[0m\n\u001b[0m\u001b[0;32m    425\u001b[0m             response['value'] = self._unwrap_value(\n\u001b[0;32m    426\u001b[0m                 response.get('value', None))\n",
      "\u001b[1;32m~\\.conda\\envs\\PythonData\\lib\\site-packages\\selenium\\webdriver\\remote\\errorhandler.py\u001b[0m in \u001b[0;36mcheck_response\u001b[1;34m(self, response)\u001b[0m\n\u001b[0;32m    245\u001b[0m                 \u001b[0malert_text\u001b[0m \u001b[1;33m=\u001b[0m \u001b[0mvalue\u001b[0m\u001b[1;33m[\u001b[0m\u001b[1;34m'alert'\u001b[0m\u001b[1;33m]\u001b[0m\u001b[1;33m.\u001b[0m\u001b[0mget\u001b[0m\u001b[1;33m(\u001b[0m\u001b[1;34m'text'\u001b[0m\u001b[1;33m)\u001b[0m\u001b[1;33m\u001b[0m\u001b[1;33m\u001b[0m\u001b[0m\n\u001b[0;32m    246\u001b[0m             \u001b[1;32mraise\u001b[0m \u001b[0mexception_class\u001b[0m\u001b[1;33m(\u001b[0m\u001b[0mmessage\u001b[0m\u001b[1;33m,\u001b[0m \u001b[0mscreen\u001b[0m\u001b[1;33m,\u001b[0m \u001b[0mstacktrace\u001b[0m\u001b[1;33m,\u001b[0m \u001b[0malert_text\u001b[0m\u001b[1;33m)\u001b[0m  \u001b[1;31m# type: ignore[call-arg]  # mypy is not smart enough here\u001b[0m\u001b[1;33m\u001b[0m\u001b[1;33m\u001b[0m\u001b[0m\n\u001b[1;32m--> 247\u001b[1;33m         \u001b[1;32mraise\u001b[0m \u001b[0mexception_class\u001b[0m\u001b[1;33m(\u001b[0m\u001b[0mmessage\u001b[0m\u001b[1;33m,\u001b[0m \u001b[0mscreen\u001b[0m\u001b[1;33m,\u001b[0m \u001b[0mstacktrace\u001b[0m\u001b[1;33m)\u001b[0m\u001b[1;33m\u001b[0m\u001b[1;33m\u001b[0m\u001b[0m\n\u001b[0m\u001b[0;32m    248\u001b[0m \u001b[1;33m\u001b[0m\u001b[0m\n\u001b[0;32m    249\u001b[0m     \u001b[1;32mdef\u001b[0m \u001b[0m_value_or_default\u001b[0m\u001b[1;33m(\u001b[0m\u001b[0mself\u001b[0m\u001b[1;33m,\u001b[0m \u001b[0mobj\u001b[0m\u001b[1;33m:\u001b[0m \u001b[0mMapping\u001b[0m\u001b[1;33m[\u001b[0m\u001b[0m_KT\u001b[0m\u001b[1;33m,\u001b[0m \u001b[0m_VT\u001b[0m\u001b[1;33m]\u001b[0m\u001b[1;33m,\u001b[0m \u001b[0mkey\u001b[0m\u001b[1;33m:\u001b[0m \u001b[0m_KT\u001b[0m\u001b[1;33m,\u001b[0m \u001b[0mdefault\u001b[0m\u001b[1;33m:\u001b[0m \u001b[0m_VT\u001b[0m\u001b[1;33m)\u001b[0m \u001b[1;33m->\u001b[0m \u001b[0m_VT\u001b[0m\u001b[1;33m:\u001b[0m\u001b[1;33m\u001b[0m\u001b[1;33m\u001b[0m\u001b[0m\n",
      "\u001b[1;31mElementClickInterceptedException\u001b[0m: Message: element click intercepted: Element <a href=\"/missing-disparus/case-dossier.jsf?case=2019019954&amp;id=0\" class=\"wet-newwindow\">...</a> is not clickable at point (173, 590). Other element would receive the click: <h3 class=\"panel-title\">...</h3>\n  (Session info: headless chrome=101.0.4951.54)\nStacktrace:\nBacktrace:\n\tOrdinal0 [0x0053B8F3+2406643]\n\tOrdinal0 [0x004CAF31+1945393]\n\tOrdinal0 [0x003BC748+837448]\n\tOrdinal0 [0x003EFA1B+1047067]\n\tOrdinal0 [0x003ED9F8+1038840]\n\tOrdinal0 [0x003EB6DB+1029851]\n\tOrdinal0 [0x003EA439+1025081]\n\tOrdinal0 [0x003E0083+983171]\n\tOrdinal0 [0x0040427C+1131132]\n\tOrdinal0 [0x003DFA64+981604]\n\tOrdinal0 [0x00404494+1131668]\n\tOrdinal0 [0x00414682+1197698]\n\tOrdinal0 [0x00404096+1130646]\n\tOrdinal0 [0x003DE636+976438]\n\tOrdinal0 [0x003DF546+980294]\n\tGetHandleVerifier [0x007A9612+2498066]\n\tGetHandleVerifier [0x0079C920+2445600]\n\tGetHandleVerifier [0x005D4F2A+579370]\n\tGetHandleVerifier [0x005D3D36+574774]\n\tOrdinal0 [0x004D1C0B+1973259]\n\tOrdinal0 [0x004D6688+1992328]\n\tOrdinal0 [0x004D6775+1992565]\n\tOrdinal0 [0x004DF8D1+2029777]\n\tBaseThreadInitThunk [0x7661FA29+25]\n\tRtlGetAppContainerNamedObjectPath [0x77AF7A7E+286]\n\tRtlGetAppContainerNamedObjectPath [0x77AF7A4E+238]\n"
     ]
    }
   ],
   "source": [
    "newURl = driver.window_handles[0]\n",
    "driver.switch_to.window(newURl)\n",
    "driver.maximize_window()\n",
    "driver.implicitly_wait(10) \n",
    "from selenium.webdriver.common.action_chains import ActionChains\n",
    "\n",
    "new_content = driver.find_element_by_xpath(\"/html/body/main/form/div[3]/section/div/figure/figcaption/h4/a\")\n",
    "# new_content = driver.find_element_by_partial_link_text('/missing-disparus/case-dossier.jsf?case=')\n",
    "actions = ActionChains(driver)\n",
    "driver.switch_to.active_element    \n",
    "\n",
    "# new_content = driver.find_element_by_xpath(\"/html/body/main/form/div[3]/section/div/figure/figcaption/h4/a\")\n",
    "actions.move_to_element(new_content).perform()\n",
    "sleep(0.5)\n",
    "new_content.click()\n"
   ]
  },
  {
   "cell_type": "code",
   "execution_count": 7,
   "id": "1347bf88",
   "metadata": {},
   "outputs": [
    {
     "data": {
      "text/plain": [
       "<selenium.webdriver.remote.webelement.WebElement (session=\"8e5b1224d586d3c132eaad01b1e28d83\", element=\"0aa64112-e801-43d0-879d-5357d9430359\")>"
      ]
     },
     "execution_count": 7,
     "metadata": {},
     "output_type": "execute_result"
    }
   ],
   "source": [
    "new_content"
   ]
  },
  {
   "cell_type": "code",
   "execution_count": null,
   "id": "f351d946",
   "metadata": {},
   "outputs": [],
   "source": [
    "driver.execute_script(\"window.history.go(-1)\")"
   ]
  }
 ],
 "metadata": {
  "kernelspec": {
   "display_name": "PythonData",
   "language": "python",
   "name": "pythondata"
  },
  "language_info": {
   "codemirror_mode": {
    "name": "ipython",
    "version": 3
   },
   "file_extension": ".py",
   "mimetype": "text/x-python",
   "name": "python",
   "nbconvert_exporter": "python",
   "pygments_lexer": "ipython3",
   "version": "3.7.10"
  }
 },
 "nbformat": 4,
 "nbformat_minor": 5
}
