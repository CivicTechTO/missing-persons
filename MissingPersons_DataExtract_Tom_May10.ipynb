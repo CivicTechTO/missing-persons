{
 "cells": [
  {
   "cell_type": "markdown",
   "id": "08c78838",
   "metadata": {},
   "source": [
    "## Missing Persons DB Webscrape\n",
    "\n",
    "https://www.services.rcmp-grc.gc.ca/missing-disparus/search-recherche.jsf\n",
    "\n",
    "- Search with no criteria will bring up all results"
   ]
  },
  {
   "cell_type": "markdown",
   "id": "297c6f54",
   "metadata": {},
   "source": [
    "### ========== Page Info"
   ]
  },
  {
   "cell_type": "markdown",
   "id": "c8e05d23",
   "metadata": {},
   "source": [
    "#### Page Nav References\n",
    "\n",
    "you can see there are 80 pages in here"
   ]
  },
  {
   "cell_type": "code",
   "execution_count": null,
   "id": "4091060d",
   "metadata": {},
   "outputs": [],
   "source": [
    "<ul class=\"pagination pagination-sm mrgn-tp-0 mrgn-bttm-0\"></ul>"
   ]
  },
  {
   "cell_type": "markdown",
   "id": "6f970726",
   "metadata": {},
   "source": [
    "get all the values of the elements of this list and get the last int"
   ]
  },
  {
   "cell_type": "markdown",
   "id": "0fdf2c51",
   "metadata": {},
   "source": [
    "<li class=\" disabled\"><a id=\"resultForm:j_idt782\" href=\"#\" onclick=\"mojarra.ab(this,event,'action',0,'@form',{'onevent':showWorkingIndicator});return false\">80</a>\n",
    "</li>"
   ]
  },
  {
   "cell_type": "markdown",
   "id": "005ffcb0",
   "metadata": {},
   "source": [
    "#### Page Link References ====================\n",
    "\n",
    "the links to the missing persons pages, can be appended to https://www.services.rcmp-grc.gc.ca/"
   ]
  },
  {
   "cell_type": "code",
   "execution_count": null,
   "id": "b7c991cb",
   "metadata": {},
   "outputs": [],
   "source": [
    "<a href=\"/missing-disparus/case-dossier.jsf?case=2021048123&amp;id=19\" class=\"wet-newwindow\">Male, 35 - 65</a>"
   ]
  },
  {
   "cell_type": "markdown",
   "id": "04f6db4d",
   "metadata": {},
   "source": [
    "### ========== Code"
   ]
  },
  {
   "cell_type": "markdown",
   "id": "512ae2b2",
   "metadata": {},
   "source": [
    "#### Get all the links to the more detailed case pages from the navigation pages"
   ]
  },
  {
   "cell_type": "code",
   "execution_count": null,
   "id": "ccac33e8",
   "metadata": {},
   "outputs": [],
   "source": [
    "import selenium\n",
    "import pandas as pd"
   ]
  },
  {
   "cell_type": "markdown",
   "id": "ef71b6a2",
   "metadata": {},
   "source": [
    "#### Collect all the data from all the detailed case pages"
   ]
  },
  {
   "cell_type": "code",
   "execution_count": null,
   "id": "64f6ffab",
   "metadata": {},
   "outputs": [],
   "source": []
  }
 ],
 "metadata": {
  "kernelspec": {
   "display_name": "Python 3 (ipykernel)",
   "language": "python",
   "name": "python3"
  },
  "language_info": {
   "codemirror_mode": {
    "name": "ipython",
    "version": 3
   },
   "file_extension": ".py",
   "mimetype": "text/x-python",
   "name": "python",
   "nbconvert_exporter": "python",
   "pygments_lexer": "ipython3",
   "version": "3.8.10"
  }
 },
 "nbformat": 4,
 "nbformat_minor": 5
}
