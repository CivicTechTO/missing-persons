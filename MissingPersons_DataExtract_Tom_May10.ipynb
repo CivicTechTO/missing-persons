{
 "cells": [
  {
   "cell_type": "markdown",
   "id": "08c78838",
   "metadata": {},
   "source": [
    "## Missing Persons DB Webscrape\n",
    "\n",
    "https://www.services.rcmp-grc.gc.ca/missing-disparus/search-recherche.jsf\n",
    "\n",
    "Search with no criteria will bring up all results.\n",
    "\n",
    "The links to the missing persons pages, can be appended to https://www.services.rcmp-grc.gc.ca/"
   ]
  },
  {
   "cell_type": "markdown",
   "id": "04f6db4d",
   "metadata": {},
   "source": [
    "### ========== Code"
   ]
  },
  {
   "cell_type": "markdown",
   "id": "512ae2b2",
   "metadata": {},
   "source": [
    "#### Get all the links to the more detailed case pages from the navigation pages"
   ]
  },
  {
   "cell_type": "code",
   "execution_count": 31,
   "id": "cf682cb3",
   "metadata": {},
   "outputs": [],
   "source": [
    "import time\n",
    "import pandas as pd\n",
    "import re\n",
    "from selenium import webdriver\n",
    "from selenium.webdriver.support.ui import Select\n",
    "from bs4 import BeautifulSoup as bs\n",
    "import requests"
   ]
  },
  {
   "cell_type": "code",
   "execution_count": null,
   "id": "ccac33e8",
   "metadata": {
    "scrolled": false
   },
   "outputs": [],
   "source": [
    "link = 'https://www.services.rcmp-grc.gc.ca/missing-disparus/search-recherche.jsf'\n",
    "from webdriver_manager.chrome import ChromeDriverManager\n",
    "browser = webdriver.Chrome(ChromeDriverManager().install())\n",
    "browser.get(link)\n",
    "time.sleep(2)\n",
    "\n",
    "# find search and click it to reach data\n",
    "try:\n",
    "    search = browser.find_element_by_name('searchForm:j_idt158')\n",
    "    time.sleep(2)\n",
    "except:\n",
    "    print('could not find Search')\n",
    "    \n",
    "try:\n",
    "    search.click()\n",
    "except:\n",
    "    print('could not find Search')\n",
    "\n",
    "time.sleep(5)\n",
    "\n",
    "not_last = True\n",
    "# to store all the URLs\n",
    "URLs = []\n",
    "\n",
    "# go through each page and get all URLs    \n",
    "while not_last:\n",
    "    time.sleep(2) # wait more just in case\n",
    "    page = browser.page_source\n",
    "    pageSoup = bs(page, 'html.parser')\n",
    "    \n",
    "    # get all the links on the page and add them to array\n",
    "    pageURLs = pageSoup.find_all('a',class_=\"wet-newwindow\")\n",
    "    \n",
    "    print(\"Collecting URLs...\")\n",
    "    \n",
    "    # take each link on the page and add if not a dupe\n",
    "    for link in pageURLs:\n",
    "        href = link.get('href')\n",
    "        if href not in URLs:\n",
    "            URLs.append(href)\n",
    "\n",
    "    print(\"Page Complete!\")\n",
    "    time.sleep(2) # wait a little\n",
    "    \n",
    "    # are we on the last page\n",
    "    try:\n",
    "        # click the next button at the bottom of the page\n",
    "        next_page = browser.find_element_by_xpath('/html/body/main/form/div[33]/ul/li[83]/a')\n",
    "        print('Found next button to press.')\n",
    "        next_page.click()\n",
    "        time.sleep(4) # wait for next page to load\n",
    "    except:\n",
    "        # should not have a next button on the last page\n",
    "        print('last page or no next button found!')\n",
    "        not_last = False\n",
    "\n",
    "# the final list\n",
    "print(\"================================== END ==================================\")\n",
    "print(len(URLs[:30])) # show a section       \n",
    "time.sleep(5)\n",
    "browser.quit()"
   ]
  },
  {
   "cell_type": "markdown",
   "id": "ef71b6a2",
   "metadata": {},
   "source": [
    "#### Collect all the data from all the detailed case pages"
   ]
  },
  {
   "cell_type": "code",
   "execution_count": null,
   "id": "64f6ffab",
   "metadata": {},
   "outputs": [],
   "source": [
    "# loop through all the URLs and collect the data from each page\n",
    "for url in URLs:\n",
    "    persons_page_url = 'https://www.services.rcmp-grc.gc.ca' + url"
   ]
  }
 ],
 "metadata": {
  "kernelspec": {
   "display_name": "Python 3 (ipykernel)",
   "language": "python",
   "name": "python3"
  },
  "language_info": {
   "codemirror_mode": {
    "name": "ipython",
    "version": 3
   },
   "file_extension": ".py",
   "mimetype": "text/x-python",
   "name": "python",
   "nbconvert_exporter": "python",
   "pygments_lexer": "ipython3",
   "version": "3.8.10"
  }
 },
 "nbformat": 4,
 "nbformat_minor": 5
}
