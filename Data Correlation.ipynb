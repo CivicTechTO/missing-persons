{
 "cells": [
  {
   "cell_type": "code",
   "execution_count": 2,
   "id": "06bfe78e",
   "metadata": {},
   "outputs": [],
   "source": [
    "import json\n",
    "import glob\n",
    "import re\n",
    "from functools import cache\n",
    "from itertools import product\n",
    "from os.path import join\n",
    "from typing import Optional\n",
    "\n",
    "import dateparser\n",
    "\n",
    "setattr(dateparser, \"parse\", cache(dateparser.parse))"
   ]
  },
  {
   "cell_type": "code",
   "execution_count": 3,
   "id": "f0a0b866",
   "metadata": {},
   "outputs": [],
   "source": [
    "# URLs\n",
    "with open('list.csv') as f:\n",
    "    URLs = [link.strip() for link in list(f.readlines())[1:]]"
   ]
  },
  {
   "cell_type": "code",
   "execution_count": 4,
   "id": "c5d181f5",
   "metadata": {
    "scrolled": true
   },
   "outputs": [],
   "source": [
    "# get all the json files in the folder\n",
    "json_files = list(sorted(glob.glob(join(\"data\", \"*.json\"))))\n",
    "\n",
    "# create a dict to store data\n",
    "main_cases = []\n",
    "\n",
    "# loop through and convert to csv\n",
    "for file in json_files:\n",
    "    with open(file) as f:\n",
    "        data = json.load(f)\n",
    "        main_cases.extend(data.values())"
   ]
  },
  {
   "cell_type": "code",
   "execution_count": 5,
   "id": "b8646a00",
   "metadata": {
    "scrolled": false
   },
   "outputs": [
    {
     "name": "stdout",
     "output_type": "stream",
     "text": [
      "['Age at disappearance', 'Aliases', 'Amputation', 'Backpack', 'Bathing Suit', 'Belt', 'Bio group', 'Blouse', 'Boots', 'Build', 'Cane', 'Chain', 'Coat', 'Complexion', 'Coveralls', 'Deformity', 'Discovered on', 'Dress', 'Est. age', 'Eye colour', 'Foreign Object', 'Fractured/Broken Bones', 'Gender', 'Glasses', 'Gloves', 'Hair', 'Hat', 'Height', 'Jacket', 'Jeans', 'Jewelry', 'Leggings', 'Luggage', 'Mark', 'Medication', 'Missing since', 'Money', 'Nightgown', 'Other', 'Overalls', 'Pants', 'Pierce', 'Purse', 'Pyjama', 'Ring', 'Scar', 'Scarf', 'Shirt', 'Shoes', 'Shorts', 'Skirt', 'Socks', 'Suit', 'Sweater', 'Tattoo', 'Teeth', 'Tie', 'Underwear', 'Vest', 'Waders', 'Wallet', 'Watch', 'Weight', 'Year of birth']\n"
     ]
    }
   ],
   "source": [
    "unique_attributes = set()\n",
    "\n",
    "for row in main_cases:\n",
    "    for person in row['PersonsData']:\n",
    "        unique_attributes.update(list(person['InfoSection'].keys()))\n",
    "        \n",
    "print(sorted(unique_attributes))"
   ]
  },
  {
   "cell_type": "code",
   "execution_count": 6,
   "id": "5b0df0e7",
   "metadata": {},
   "outputs": [],
   "source": [
    "# The data comes in as a list of cases with multiple people per case\n",
    "# This method will convert the cases to a list of people with a unique key for each person as the index\n",
    "# Use a list of people to do logic with, and then convert back to cases for the front end\n",
    "def flatten_cases_to_people(cases):\n",
    "    people = {}\n",
    "    \n",
    "    for case in cases:\n",
    "        case_without_persons = case.copy()\n",
    "        case_without_persons.pop('PersonsData')\n",
    "        \n",
    "        for person in case['PersonsData']:\n",
    "            key = case['CaseRef'] + '%%' + person['Name']\n",
    "            \n",
    "            people[key] = person['InfoSection'] | case_without_persons\n",
    "            people[key]['Name'] = person['Name']\n",
    "            \n",
    "    return people\n",
    "\n",
    "\n",
    "persons_data = flatten_cases_to_people(main_cases)\n",
    "\n",
    "missing_persons = [persons_data[p] for p in persons_data if persons_data[p][\"CaseType\"] == \"Missing\"]\n",
    "unidentified_persons = [persons_data[p] for p in persons_data if persons_data[p][\"CaseType\"] == \"Unidentified\"]"
   ]
  },
  {
   "cell_type": "markdown",
   "id": "c2c51429",
   "metadata": {},
   "source": [
    "# Unique Attributes Useful for Filtering\n",
    "- [x] **Discovered on**\n",
    "- [x] **Missing since**\n",
    "- [x] Year of birth\n",
    "- [x] Est. Age\n",
    "- [x] Age at disappearance\n",
    "- [x] Hair\n",
    "- [x] Tattoo\n",
    "- [x] Marks\n",
    "- [ ] Complexion\n",
    "- [ ] Eye colour\n",
    "- [x] Height\n",
    "- [x] Weight"
   ]
  },
  {
   "cell_type": "code",
   "execution_count": 7,
   "id": "e399c0f7",
   "metadata": {},
   "outputs": [],
   "source": [
    "def format_age_range(raw_age_range_string):\n",
    "    result = re.search(r'(\\d+)[^\\d]+?(\\d+)', raw_age_range_string, re.M)\n",
    "    \n",
    "    if result is None or len(result.groups()) != 2:\n",
    "        return None\n",
    "    \n",
    "    g = list(result.groups())\n",
    "    return [int(g[0]), int(g[1])]"
   ]
  },
  {
   "cell_type": "code",
   "execution_count": 8,
   "id": "68eb064d",
   "metadata": {},
   "outputs": [],
   "source": [
    "def format_weight(raw_weight_string) -> int:\n",
    "    result = re.search(r'(\\d+)kg', raw_weight_string, re.M)\n",
    "    \n",
    "    if result is None or len(result.groups()) != 1:\n",
    "        return None \n",
    "    \n",
    "    return int(result.groups()[0])"
   ]
  },
  {
   "cell_type": "code",
   "execution_count": 9,
   "id": "518338a5",
   "metadata": {},
   "outputs": [],
   "source": [
    "# Missing people have a percise height, unidentified remains have a range or a percise height\n",
    "\n",
    "def format_height(raw_height_string) -> int:\n",
    "    result = re.search(r'(\\d+)cm', raw_height_string, re.M)\n",
    "    \n",
    "    if result is None or len(result.groups()) != 1:\n",
    "        return None \n",
    "    \n",
    "    return int(result.groups()[0])\n",
    "\n",
    "def format_height_range(raw_height_string):\n",
    "    result = re.search(r'(\\d+)cm.* (\\d+)cm', raw_height_string, re.M)\n",
    "    \n",
    "    if result is None or len(result.groups()) != 2:\n",
    "        return None\n",
    "    \n",
    "    g = list(result.groups())\n",
    "    return [int(g[0]), int(g[1])]"
   ]
  },
  {
   "cell_type": "code",
   "execution_count": 10,
   "id": "8ef2116c",
   "metadata": {},
   "outputs": [],
   "source": [
    "def was_found_after_reported(unidentified, missing) -> bool:\n",
    "    unidentified_found = dateparser.parse(unidentified[\"Discovered on\"][0])\n",
    "    missing_missing = dateparser.parse(missing[\"Missing since\"][0])\n",
    "\n",
    "    return  unidentified_found > missing_missing"
   ]
  },
  {
   "cell_type": "code",
   "execution_count": 11,
   "id": "5a22120d",
   "metadata": {},
   "outputs": [],
   "source": [
    "def potential_gender_match(unidentified, missing) -> bool:\n",
    "    try:\n",
    "        unidentified_gender = unidentified[\"Gender\"][0]\n",
    "        missing_gender = missing[\"Gender\"][0]\n",
    "    \n",
    "        if unidentified_gender == missing_gender:\n",
    "            return True\n",
    "        elif unidentified_gender.lower() not in [\"male\", \"female\"] or missing_gender.lower() not in [\"male\", \"female\"]:\n",
    "            return True\n",
    "    except:\n",
    "        return True\n",
    "        \n",
    "    return False"
   ]
  },
  {
   "cell_type": "code",
   "execution_count": 12,
   "id": "c6c74b97",
   "metadata": {},
   "outputs": [],
   "source": [
    "def age_approximately_as_expected(u, m) -> bool:\n",
    "    unidentified_age_est = format_age_range(u[\"Est. age\"][0])\n",
    "            \n",
    "    if unidentified_age_est is None:\n",
    "        return False\n",
    "    \n",
    "    # tweak the range to be a bit more generous\n",
    "    unidentified_age_est = [unidentified_age_est[0] * 0.8, unidentified_age_est[1] * 1.2]\n",
    "\n",
    "\n",
    "    # this range goes from the youngest possible age, the age at disappearance, to the\n",
    "    # oldest, which is how old they'd be when the unidentified remains were found    \n",
    "    missing_age_range = (int(m[\"Age at disappearance\"][0]),\n",
    "                         (dateparser.parse(u[\"Discovered on\"][0]) - dateparser.parse(m[\"Year of birth\"][0])).days / 365)\n",
    "        \n",
    "    # return if there's overlap between the two ranges\n",
    "    return unidentified_age_est[1] > missing_age_range[0] and unidentified_age_est[0] < missing_age_range[1]"
   ]
  },
  {
   "cell_type": "code",
   "execution_count": 13,
   "id": "b466856a",
   "metadata": {},
   "outputs": [],
   "source": [
    "MAX_WEIGHT_DIFFERENCE = 8 #kg\n",
    "\n",
    "def weight_approximately_as_expected(u, m) -> bool:\n",
    "    \n",
    "    # ignore if no weight value\n",
    "    if not('Weight' in u and 'Weight' in m):\n",
    "        return True\n",
    "    \n",
    "    u_weight = format_weight(u['Weight'])\n",
    "    m_weight = format_weight(m['Weight'])\n",
    "    \n",
    "    # ignore if somehow improperly formatted\n",
    "    if u_weight is None or m_weight is None:\n",
    "        return True\n",
    "    \n",
    "    # check if weight in range\n",
    "    return u_weight > (m_weight - MAX_WEIGHT_DIFFERENCE) and u_weight < (m_weight + MAX_WEIGHT_DIFFERENCE)\n",
    "\n",
    "# TODO: change weight range as a function of time. e.g. if they have been missing for 2 days, use tight range\n",
    "#  if missing for years have a more generous range"
   ]
  },
  {
   "cell_type": "code",
   "execution_count": 14,
   "id": "df84189c",
   "metadata": {},
   "outputs": [],
   "source": [
    "MAX_HEIGHT_DIFFERENCE = 15 # cm\n",
    "\n",
    "def height_approximately_as_expected(u, m) -> Optional[float]:\n",
    "    # ignore if no weight value\n",
    "    if not('Height' in u and 'Height' in m):\n",
    "        return 0.0\n",
    "    \n",
    "    m_height = format_height(m['Weight'])\n",
    "    u_height = format_height_range(u['Weight'])\n",
    "\n",
    "    if u_height is None:\n",
    "        u_height = format_height(u['Weight'])\n",
    "    else:\n",
    "        # make sure height is not a range\n",
    "        u_height = (u_height[0] + u_height[1]) / 2\n",
    "        \n",
    "    # ignore if can't parse\n",
    "    if m_height is None or u_height is None:\n",
    "        return 0.0\n",
    "\n",
    "    # number of cm difference\n",
    "    height_closeness = abs(u_height - m_height)\n",
    "\n",
    "    if height_closeness > MAX_HEIGHT_DIFFERENCE:\n",
    "        return None\n",
    "\n",
    "    return 1 - (height_closeness / MAX_HEIGHT_DIFFERENCE)"
   ]
  },
  {
   "cell_type": "code",
   "execution_count": 15,
   "id": "c9ca5009",
   "metadata": {},
   "outputs": [],
   "source": [
    "# naive check to see if either both or neither have a \"Tattoo\" key\n",
    "def tattoo_matching(u, m) -> bool:\n",
    "    return (\"Tattoo\" in u) == (\"Tattoo\" in m)"
   ]
  },
  {
   "cell_type": "code",
   "execution_count": 16,
   "id": "7b801fd1",
   "metadata": {},
   "outputs": [],
   "source": [
    "# naive check to see if either both or neither have a \"Mark\" key\n",
    "def mark_matching(u, m) -> bool:\n",
    "    return (\"Mark\" in u) == (\"Mark\" in m)"
   ]
  },
  {
   "cell_type": "code",
   "execution_count": 17,
   "id": "55793a91",
   "metadata": {},
   "outputs": [],
   "source": [
    "def height_matching(u, m) -> bool:\n",
    "    return True"
   ]
  },
  {
   "cell_type": "code",
   "execution_count": 18,
   "id": "c57a7f85",
   "metadata": {},
   "outputs": [],
   "source": [
    "def potential_hair_match(unidentified, missing) -> bool:\n",
    "    try:\n",
    "        unidentified_hair = unidentified[\"Hair\"][0].lower()\n",
    "        missing_hair = missing[\"Hair\"][0].lower()\n",
    "    \n",
    "        if unidentified_hair == missing_hair:\n",
    "            return True\n",
    "    except:\n",
    "        # if we can't pull any hair data from either, it stays a potential match\n",
    "        return True\n",
    "\n",
    "    return False"
   ]
  },
  {
   "cell_type": "code",
   "execution_count": 19,
   "id": "9a6ee74d",
   "metadata": {},
   "outputs": [],
   "source": [
    "def potential_bio_group_match(unidentified, missing) -> bool:\n",
    "    try:\n",
    "        unidentified_bio_group = unidentified[\"Bio group\"][0].lower()\n",
    "        missing_bio_group = missing[\"Bio group\"][0].lower()\n",
    "    \n",
    "        if unidentified_bio_group == missing_bio_group:\n",
    "            return True\n",
    "    except:\n",
    "        return True\n",
    "\n",
    "    return False"
   ]
  },
  {
   "cell_type": "code",
   "execution_count": 20,
   "id": "8bdad069",
   "metadata": {
    "scrolled": false
   },
   "outputs": [
    {
     "name": "stderr",
     "output_type": "stream",
     "text": [
      "/Users/isaac/.local/share/virtualenvs/missing-persons-foNNpqC_/lib/python3.10/site-packages/dateparser/date_parser.py:35: PytzUsageWarning: The localize method is no longer necessary, as this time zone supports the fold attribute (PEP 495). For more details on migrating to a PEP 495-compliant implementation, see https://pytz-deprecation-shim.readthedocs.io/en/latest/migration.html\n",
      "  date_obj = stz.localize(date_obj)\n"
     ]
    },
    {
     "name": "stdout",
     "output_type": "stream",
     "text": [
      "Reduced to 23453 out of a possible 756136 matches (3%)\n",
      "[\n",
      "  {\n",
      "    \"Discovered on\": [\n",
      "      \"August 7, 1985\"\n",
      "    ],\n",
      "    \"Est. age\": [\n",
      "      \"50\\n             to 60\"\n",
      "    ],\n",
      "    \"Gender\": [\n",
      "      \"Male\"\n",
      "    ],\n",
      "    \"Bio group\": [\n",
      "      \"White\"\n",
      "    ],\n",
      "    \"Hair\": [\n",
      "      \"Grey, White, It is unknown whether he had any scalp hair but a few white hairs were noted on the back of his neck\"\n",
      "    ],\n",
      "    \"Teeth\": [\n",
      "      \"Several of his teeth were missing prior to his death and he has some fillings. He also has a cast chrome partial upper denture.\"\n",
      "    ],\n",
      "    \"Mark\": [\n",
      "      \"Left Side Of Head, Raised \\\"age spots\\\" on his head, left cheek and behind his left ear.\"\n",
      "    ],\n",
      "    \"Deformity\": [\n",
      "      \"Upper Left Back, A papilloma (benign non-cancerous tumor) over his left shoulder blade\"\n",
      "    ],\n",
      "    \"Scar\": [\n",
      "      \"Right Pelvis, 2cm right inguinal (groin area) scar\"\n",
      "    ],\n",
      "    \"CaseRef\": \"Case reference: 2005007499\",\n",
      "    \"CaseDesc\": \"On August 7, 1985, an unidentified man, believed to be between the ages of 50-60 years, was recovered from the Niagara River near the Maid of the Mist boarding dock. His post-mortem weight was recorded as 127.5lbs. His post-mortem length was measured at 5'3''-5'4''; however, due to traumatic injury this may not accurately represent his actual living height. He was recovered without clothing or personal effects. It is not known how long he had been in the water. A man, similarly described, was seen jumping over the Niagara Falls 5 days prior to the date that this unidentified man was recovered.\",\n",
      "    \"CaseType\": \"Unidentified\",\n",
      "    \"CaseURL\": \"https://www.services.rcmp-grc.gc.ca/missing-disparus/case-dossier.jsf?case=2005007499&id=27\",\n",
      "    \"Name\": \"Male, 50 - 60\"\n",
      "  },\n",
      "  {\n",
      "    \"Aliases\": [\n",
      "      \"BAXTER, Henry\"\n",
      "    ],\n",
      "    \"Missing since\": [\n",
      "      \"July 30, 1939\"\n",
      "    ],\n",
      "    \"Year of birth\": [\n",
      "      \"1908\"\n",
      "    ],\n",
      "    \"Age at disappearance\": [\n",
      "      \"30\"\n",
      "    ],\n",
      "    \"Gender\": [\n",
      "      \"Male\"\n",
      "    ],\n",
      "    \"Bio group\": [\n",
      "      \"White\"\n",
      "    ],\n",
      "    \"CaseRef\": \"Case reference: 2014005145\",\n",
      "    \"CaseDesc\": \"Sometime after July 30, 1939, Charles \\\"Henry\\\" Baxter went missing from the Hawarden District, SK. At the time of his disappearance, it was thought that Mr. Baxter went across the river to Tichfield to find work, or even joined the military and went overseas. However, Mr. Baxter was never seen again by his family, and these theories have never been substantiated.\",\n",
      "    \"CaseType\": \"Missing\",\n",
      "    \"CaseURL\": \"https://www.services.rcmp-grc.gc.ca/missing-disparus/case-dossier.jsf?case=2014005145&id=22\",\n",
      "    \"Name\": \"BAXTER, Charles Henry\"\n",
      "  }\n",
      "]\n",
      "CPU times: user 1.97 s, sys: 14 ms, total: 1.99 s\n",
      "Wall time: 1.99 s\n"
     ]
    }
   ],
   "source": [
    "%%time\n",
    "\n",
    "potential_matches_complete_objects = []\n",
    "\n",
    "comparison_functions = [\n",
    "    was_found_after_reported,\n",
    "    potential_gender_match,\n",
    "    age_approximately_as_expected,\n",
    "    potential_hair_match,\n",
    "    tattoo_matching,\n",
    "    potential_bio_group_match,\n",
    "    height_matching,\n",
    "    weight_approximately_as_expected,\n",
    "    height_approximately_as_expected,\n",
    "    # mark_matching,\n",
    "]\n",
    "\n",
    "def try_all_match_functions(unidentified, missing) -> Optional[float]:\n",
    "    match_score = 0.0\n",
    "    for f in comparison_functions:\n",
    "        try:\n",
    "            comparison_score = f(unidentified, missing)\n",
    "            if comparison_score is None or comparison_score is False:\n",
    "                return None\n",
    "            else:\n",
    "                match_score += comparison_score\n",
    "        except Exception as e:\n",
    "            return None\n",
    "    \n",
    "    return match_score\n",
    "\n",
    "\n",
    "for unidentified, missing in product(unidentified_persons, missing_persons):\n",
    "    # do comparisons of missing and unidentified using all known comparison functions\n",
    "    # If it's a possible match, append to the list of potential matches\n",
    "    if try_all_match_functions(unidentified, missing):\n",
    "        potential_matches_complete_objects.append((unidentified, missing))\n",
    "        \n",
    "num_matches = len(potential_matches_complete_objects)\n",
    "possible_total_matches = len(unidentified_persons)*len(missing_persons)\n",
    "\n",
    "print(f\"Reduced to {num_matches} out of a possible {possible_total_matches} matches ({int(100*num_matches/possible_total_matches)}%)\")\n",
    "print(json.dumps(potential_matches_complete_objects[0], indent=2))"
   ]
  }
 ],
 "metadata": {
  "interpreter": {
   "hash": "44d98258a04936e27733d1decb520b0438f2fd6b7aa99c39f133b313202d2ee1"
  },
  "kernelspec": {
   "display_name": "Python 3 (ipykernel)",
   "language": "python",
   "name": "python3"
  },
  "language_info": {
   "codemirror_mode": {
    "name": "ipython",
    "version": 3
   },
   "file_extension": ".py",
   "mimetype": "text/x-python",
   "name": "python",
   "nbconvert_exporter": "python",
   "pygments_lexer": "ipython3",
   "version": "3.10.6"
  }
 },
 "nbformat": 4,
 "nbformat_minor": 5
}
