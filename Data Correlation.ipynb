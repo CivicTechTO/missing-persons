{
 "cells": [
  {
   "cell_type": "code",
   "execution_count": 16,
   "id": "06bfe78e",
   "metadata": {},
   "outputs": [],
   "source": [
    "import json\n",
    "import glob\n",
    "from os.path import join\n",
    "import dateparser\n",
    "import re\n",
    "import pandas as pd"
   ]
  },
  {
   "cell_type": "code",
   "execution_count": 2,
   "id": "f0a0b866",
   "metadata": {},
   "outputs": [],
   "source": [
    "# URLs\n",
    "with open('list.csv') as f:\n",
    "    URLs = [link.strip() for link in list(f.readlines())[1:]]"
   ]
  },
  {
   "cell_type": "code",
   "execution_count": 3,
   "id": "c5d181f5",
   "metadata": {},
   "outputs": [],
   "source": [
    "# get all the json files in the folder\n",
    "json_files = list(sorted(glob.glob(join(\"data\", \"*.json\"))))\n",
    "\n",
    "# create a df to store data\n",
    "main_df = pd.DataFrame(columns=[\"CaseRef\",\"CaseDesc\",\"CaseType\",\"CaseURL\",\"PersonsData\"])\n",
    "\n",
    "# loop through and convert to csv\n",
    "for file in json_files:\n",
    "    with open(file) as f:\n",
    "        data = json.load(f)\n",
    "        temp_df = pd.DataFrame(data.values())\n",
    "    main_df = pd.concat([main_df, temp_df])\n",
    "    \n",
    "main_df.to_csv(join(\"data\", \"json_converted.csv\"))"
   ]
  },
  {
   "cell_type": "code",
   "execution_count": 4,
   "id": "b8646a00",
   "metadata": {
    "scrolled": false
   },
   "outputs": [
    {
     "name": "stdout",
     "output_type": "stream",
     "text": [
      "{'Socks', 'Other', 'Suit', 'Coveralls', 'Sweater', 'Year of birth', 'Weight', 'Pierce', 'Luggage', 'Nightgown', 'Build', 'Cane', 'Purse', 'Hat', 'Shoes', 'Jeans', 'Hair', 'Vest', 'Belt', 'Missing since', 'Shorts', 'Leggings', 'Tattoo', 'Scarf', 'Teeth', 'Glasses', 'Blouse', 'Waders', 'Bathing Suit', 'Ring', 'Medication', 'Aliases', 'Underwear', 'Jacket', 'Eye colour', 'Jewelry', 'Tie', 'Est. age', 'Age at disappearance', 'Coat', 'Wallet', 'Fractured/Broken Bones', 'Amputation', 'Discovered on', 'Overalls', 'Money', 'Height', 'Skirt', 'Gloves', 'Pyjama', 'Bio group', 'Scar', 'Pants', 'Backpack', 'Chain', 'Mark', 'Watch', 'Shirt', 'Dress', 'Boots', 'Gender', 'Deformity', 'Foreign Object', 'Complexion'}\n"
     ]
    }
   ],
   "source": [
    "unique_attriutes = set()\n",
    "\n",
    "for index, row in main_df.iterrows():\n",
    "    for person in row['PersonsData']:\n",
    "        unique_attriutes.update(list(person['InfoSection'].keys()))\n",
    "        \n",
    "print(unique_attriutes)"
   ]
  },
  {
   "cell_type": "markdown",
   "id": "c2c51429",
   "metadata": {},
   "source": [
    "# Unique Attributes Useful for Filtering\n",
    "- **Discovered on**\n",
    "- **Missing since**\n",
    "- Year of birth\n",
    "- Est. Age\n",
    "- Age at disappearance\n",
    "- Complexion\n",
    "- Eye colour\n",
    "- Height"
   ]
  },
  {
   "cell_type": "code",
   "execution_count": 24,
   "id": "e399c0f7",
   "metadata": {},
   "outputs": [],
   "source": [
    "def format_age_range(raw_age_range_string):\n",
    "    result = re.search(r'(\\d+).*(\\d+)', raw_age_range_string)\n",
    "    \n",
    "    if result is None or len(result.groups()) != 3:\n",
    "        return None\n",
    "    \n",
    "    return [int(result.group(1)), int(result.group(2))]"
   ]
  },
  {
   "cell_type": "code",
   "execution_count": 5,
   "id": "9a588be7",
   "metadata": {},
   "outputs": [],
   "source": [
    "missing_df = main_df[main_df['CaseType'] == 'Missing']\n",
    "unidentified_df = main_df[main_df['CaseType'] == 'Unidentified']"
   ]
  },
  {
   "cell_type": "code",
   "execution_count": 8,
   "id": "72572ec9",
   "metadata": {
    "scrolled": true
   },
   "outputs": [
    {
     "name": "stdout",
     "output_type": "stream",
     "text": [
      "CPU times: user 8.36 s, sys: 200 ms, total: 8.56 s\n",
      "Wall time: 10.8 s\n"
     ]
    }
   ],
   "source": [
    "%%time\n",
    "\n",
    "def get_all_attribute_from_all_persons(attribute_name, attribute_function, df):\n",
    "    people_with_attribute = []\n",
    "    \n",
    "    for index, row in df.iterrows():\n",
    "        for person in row['PersonsData']:\n",
    "            attribute = [row['CaseURL'], attribute_function(person['InfoSection'][attribute_name][0])]\n",
    "            people_with_attribute.append(attribute)\n",
    "            \n",
    "    return people_with_attribute\n",
    "            \n",
    "unidentified_disovered_at = get_all_attribute_from_all_persons('Discovered on', dateparser.parse, unidentified_df)\n",
    "missing_missing_since = get_all_attribute_from_all_persons('Missing since', dateparser.parse, missing_df)"
   ]
  },
  {
   "cell_type": "code",
   "execution_count": 10,
   "id": "7ea92a14",
   "metadata": {},
   "outputs": [],
   "source": [
    "def person_data_data_frame(df, attributes):\n",
    "    person_data_frame = {'Person URL': []}\n",
    "    for attribute in attributes:\n",
    "        person_data_frame[attribute] = []\n",
    "\n",
    "    for _, row in df.iterrows():\n",
    "        for person in row['PersonsData']:\n",
    "            person_data_frame['Person URL'].append(row['CaseURL'])\n",
    "\n",
    "            for attribute in attributes:\n",
    "                if attribute in person['InfoSection']:\n",
    "                    person_data_frame[attribute].append(person['InfoSection'][attribute][0])\n",
    "                else:\n",
    "                    person_data_frame[attribute].append(None)\n",
    "\n",
    "    return pd.DataFrame(data=person_data_frame)"
   ]
  },
  {
   "cell_type": "code",
   "execution_count": 25,
   "id": "555e9c22",
   "metadata": {},
   "outputs": [
    {
     "name": "stdout",
     "output_type": "stream",
     "text": [
      "0      None\n",
      "1      None\n",
      "2      None\n",
      "3      None\n",
      "4      None\n",
      "       ... \n",
      "369    None\n",
      "370    None\n",
      "371    None\n",
      "372    None\n",
      "373    None\n",
      "Name: Est. age, Length: 374, dtype: object\n"
     ]
    }
   ],
   "source": [
    "my_df = person_data_data_frame(unidentified_df, ['Discovered on', 'Est. age'])\n",
    "print(my_df['Est. age'].apply(format_age_range))"
   ]
  },
  {
   "cell_type": "code",
   "execution_count": 9,
   "id": "2e0e6ba4",
   "metadata": {},
   "outputs": [
    {
     "name": "stdout",
     "output_type": "stream",
     "text": [
      "['https://www.services.rcmp-grc.gc.ca/missing-disparus/case-dossier.jsf?case=2020008698&id=18', 'https://www.services.rcmp-grc.gc.ca/missing-disparus/case-dossier.jsf?case=2014001136&id=27']\n"
     ]
    }
   ],
   "source": [
    "potential_matches = []\n",
    "\n",
    "for missing_person in missing_missing_since:\n",
    "    for unidentified in unidentified_disovered_at:\n",
    "        if missing_person[1] < unidentified[1]:\n",
    "            potential_matches.append([missing_person[0], unidentified[0]])\n",
    "            \n",
    "print(potential_matches[0])"
   ]
  },
  {
   "cell_type": "code",
   "execution_count": null,
   "id": "c0d4040a",
   "metadata": {},
   "outputs": [],
   "source": []
  }
 ],
 "metadata": {
  "interpreter": {
   "hash": "44d98258a04936e27733d1decb520b0438f2fd6b7aa99c39f133b313202d2ee1"
  },
  "kernelspec": {
   "display_name": "Python 3.10.0 ('missing-persons-foNNpqC_')",
   "language": "python",
   "name": "python3"
  },
  "language_info": {
   "codemirror_mode": {
    "name": "ipython",
    "version": 3
   },
   "file_extension": ".py",
   "mimetype": "text/x-python",
   "name": "python",
   "nbconvert_exporter": "python",
   "pygments_lexer": "ipython3",
   "version": "3.10.0"
  }
 },
 "nbformat": 4,
 "nbformat_minor": 5
}
