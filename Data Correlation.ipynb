{
 "cells": [
  {
   "cell_type": "code",
   "execution_count": null,
   "id": "06bfe78e",
   "metadata": {},
   "outputs": [],
   "source": [
    "import json\n",
    "import glob\n",
    "import re\n",
    "from functools import cache\n",
    "from itertools import product\n",
    "from os.path import join\n",
    "\n",
    "import dateparser"
   ]
  },
  {
   "cell_type": "code",
   "execution_count": null,
   "id": "f0a0b866",
   "metadata": {},
   "outputs": [],
   "source": [
    "# URLs\n",
    "with open('list.csv') as f:\n",
    "    URLs = [link.strip() for link in list(f.readlines())[1:]]"
   ]
  },
  {
   "cell_type": "code",
   "execution_count": null,
   "id": "c5d181f5",
   "metadata": {},
   "outputs": [],
   "source": [
    "# get all the json files in the folder\n",
    "json_files = list(sorted(glob.glob(join(\"data\", \"*.json\"))))\n",
    "\n",
    "# create a dict to store data\n",
    "main_cases = []\n",
    "\n",
    "# loop through and convert to csv\n",
    "for file in json_files:\n",
    "    with open(file) as f:\n",
    "        data = json.load(f)\n",
    "        main_cases.extend(data.values())\n",
    "        \n",
    "print(json.dumps(main_cases[:2], indent=2))"
   ]
  },
  {
   "cell_type": "code",
   "execution_count": null,
   "id": "5b0df0e7",
   "metadata": {},
   "outputs": [],
   "source": [
    "# The data comes in as a list of cases with multiple people per case\n",
    "# This method will convert the cases to a list of people with a unique key for each person as the index\n",
    "# Use a list of people to do logic with, and then convert back to cases for the front end\n",
    "def flatten_cases_to_people(cases):\n",
    "    people = {}\n",
    "    \n",
    "    for case in cases:\n",
    "        case_without_persons = case.copy()\n",
    "        case_without_persons.pop('PersonsData')\n",
    "        \n",
    "        for person in case['PersonsData']:\n",
    "            key = case['CaseRef'] + '%%' + person['Name']\n",
    "            \n",
    "            people[key] = person['InfoSection'] | case_without_persons\n",
    "            people[key]['Name'] = person['Name']\n",
    "            \n",
    "    return people\n",
    "\n",
    "\n",
    "def get_subset_of_cases(cases, people_keys):\n",
    "    case_subset = []\n",
    "    \n",
    "    case_refs = {pk.split('%%')[0]: pk.split('%%')[1] for pk in people_keys}\n",
    "\n",
    "    for case in cases:\n",
    "        if case['CaseRef'] in case_refs:\n",
    "            case_subset.append(case)\n",
    "            \n",
    "    return case_subset"
   ]
  },
  {
   "cell_type": "code",
   "execution_count": null,
   "id": "b8646a00",
   "metadata": {
    "scrolled": false
   },
   "outputs": [],
   "source": [
    "unique_attributes = set()\n",
    "\n",
    "for row in main_cases:\n",
    "    for person in row['PersonsData']:\n",
    "        unique_attributes.update(list(person['InfoSection'].keys()))\n",
    "        \n",
    "print(unique_attributes)"
   ]
  },
  {
   "cell_type": "markdown",
   "id": "c2c51429",
   "metadata": {},
   "source": [
    "# Unique Attributes Useful for Filtering\n",
    "- **Discovered on**\n",
    "- **Missing since**\n",
    "- Year of birth\n",
    "- Est. Age\n",
    "- Age at disappearance\n",
    "- Complexion\n",
    "- Eye colour\n",
    "- Height"
   ]
  },
  {
   "cell_type": "code",
   "execution_count": null,
   "id": "e399c0f7",
   "metadata": {},
   "outputs": [],
   "source": [
    "def format_age_range(raw_age_range_string):\n",
    "    result = re.search(r'(\\d+).*(\\d+)', raw_age_range_string)\n",
    "    \n",
    "    if result is None or len(result.groups()) != 3:\n",
    "        return None\n",
    "    \n",
    "    return [int(result.group(1)), int(result.group(2))]"
   ]
  },
  {
   "cell_type": "code",
   "execution_count": null,
   "id": "e8f01eee",
   "metadata": {},
   "outputs": [],
   "source": [
    "@cache\n",
    "def cached_datetime_parser(*args, **kwargs):\n",
    "    return dateparser.parse(*args, **kwargs)"
   ]
  },
  {
   "cell_type": "code",
   "execution_count": null,
   "id": "c0e23872",
   "metadata": {},
   "outputs": [],
   "source": [
    "def person_data(data):"
   ]
  },
  {
   "cell_type": "code",
   "execution_count": null,
   "id": "8ef2116c",
   "metadata": {},
   "outputs": [],
   "source": [
    "def was_found_after_reported(unidentified, missing) -> bool:\n",
    "    # TODO\n",
    "    return True"
   ]
  },
  {
   "cell_type": "code",
   "execution_count": null,
   "id": "1408d45b",
   "metadata": {},
   "outputs": [],
   "source": [
    "%%time\n",
    "\n",
    "potential_matches_complete_objects = []\n",
    "\n",
    "comparison_functions = [was_found_after_reported]\n",
    "\n",
    "for unidentified, missing in product(unidentified_cases, missing_cases):\n",
    "    # do comparisons of missing and unidentified using all known comparison functions\n",
    "    # If it's a possible match, append to the list of potential matches\n",
    "    if all([f(unidentified, missing) for f in comparison_functions]):\n",
    "        potential_matches_complete_objects.append((unidentified, missing))\n",
    "        \n",
    "print(json.dumps(potential_matches_complete_objects[0], indent=2))"
   ]
  },
  {
   "cell_type": "code",
   "execution_count": null,
   "id": "bceaf1d2",
   "metadata": {},
   "outputs": [],
   "source": [
    "def extract_attribute(cases, attribute, is_case_attribute=False):\n",
    "    attribute_hash = {}\n",
    "    \n",
    "    for case in cases:\n",
    "        for person in case['PersonsData']:\n",
    "            key = case['CaseRef'] + '-' + person['Name']\n",
    "            \n",
    "            if is_case_attribute:\n",
    "                data_section = case\n",
    "            else:\n",
    "                data_section = person['InfoSection']\n",
    "            \n",
    "            if attribute in data_section:\n",
    "                attribute_hash[key] = data_section[attribute]\n",
    "                \n",
    "    return attribute_hash"
   ]
  },
  {
   "cell_type": "code",
   "execution_count": null,
   "id": "313e8bc0",
   "metadata": {},
   "outputs": [],
   "source": [
    "\n",
    "        \n",
    "\n",
    "# print(list(flatten_cases_to_people(main_cases).items())[54])\n",
    "print(get_subset_of_cases(main_cases, ['Case reference: 2014004727%%BELANGER, Roger Leo']))"
   ]
  },
  {
   "cell_type": "code",
   "execution_count": null,
   "id": "1c9b8019",
   "metadata": {},
   "outputs": [],
   "source": []
  }
 ],
 "metadata": {
  "interpreter": {
   "hash": "44d98258a04936e27733d1decb520b0438f2fd6b7aa99c39f133b313202d2ee1"
  },
  "kernelspec": {
   "display_name": "Python 3 (ipykernel)",
   "language": "python",
   "name": "python3"
  },
  "language_info": {
   "codemirror_mode": {
    "name": "ipython",
    "version": 3
   },
   "file_extension": ".py",
   "mimetype": "text/x-python",
   "name": "python",
   "nbconvert_exporter": "python",
   "pygments_lexer": "ipython3",
   "version": "3.10.0"
  }
 },
 "nbformat": 4,
 "nbformat_minor": 5
}
