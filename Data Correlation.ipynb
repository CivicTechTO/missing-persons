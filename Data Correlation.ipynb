{
 "cells": [
  {
   "cell_type": "code",
   "execution_count": null,
   "id": "06bfe78e",
   "metadata": {},
   "outputs": [],
   "source": [
    "import json\n",
    "import glob\n",
    "from os.path import join\n",
    "\n",
    "import pandas as pd"
   ]
  },
  {
   "cell_type": "code",
   "execution_count": null,
   "id": "f0a0b866",
   "metadata": {},
   "outputs": [],
   "source": [
    "# URLs\n",
    "with open('list.csv') as f:\n",
    "    URLs = [link.strip() for link in list(f.readlines())[1:]]"
   ]
  },
  {
   "cell_type": "code",
   "execution_count": null,
   "id": "c5d181f5",
   "metadata": {},
   "outputs": [],
   "source": [
    "# get all the json files in the folder\n",
    "json_files = list(sorted(glob.glob(join(\"data\", \"*.json\"))))\n",
    "\n",
    "# create a df to store data\n",
    "main_df = pd.DataFrame(columns=[\"CaseRef\",\"CaseDesc\",\"CaseType\",\"CaseURL\",\"PersonsData\"])\n",
    "\n",
    "# loop through and convert to csv\n",
    "for file in json_files:\n",
    "    with open(file) as f:\n",
    "        data = json.load(f)\n",
    "        temp_df = pd.DataFrame(data.values())\n",
    "    main_df = pd.concat([main_df, temp_df])\n",
    "    \n",
    "main_df.to_csv(join(\"data\", \"json_converted.csv\"))"
   ]
  },
  {
   "cell_type": "code",
   "execution_count": null,
   "id": "b8646a00",
   "metadata": {},
   "outputs": [],
   "source": []
  }
 ],
 "metadata": {
  "kernelspec": {
   "display_name": "Python 3 (ipykernel)",
   "language": "python",
   "name": "python3"
  },
  "language_info": {
   "codemirror_mode": {
    "name": "ipython",
    "version": 3
   },
   "file_extension": ".py",
   "mimetype": "text/x-python",
   "name": "python",
   "nbconvert_exporter": "python",
   "pygments_lexer": "ipython3",
   "version": "3.10.5"
  }
 },
 "nbformat": 4,
 "nbformat_minor": 5
}
