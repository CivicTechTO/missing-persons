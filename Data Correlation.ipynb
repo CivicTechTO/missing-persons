{
 "cells": [
  {
   "cell_type": "code",
   "execution_count": 12,
   "id": "06bfe78e",
   "metadata": {},
   "outputs": [],
   "source": [
    "import json\n",
    "import glob\n",
    "from os.path import join\n",
    "from functools import cache\n",
    "import dateparser\n",
    "import re\n",
    "import pandas as pd"
   ]
  },
  {
   "cell_type": "code",
   "execution_count": 13,
   "id": "f0a0b866",
   "metadata": {},
   "outputs": [],
   "source": [
    "# URLs\n",
    "with open('list.csv') as f:\n",
    "    URLs = [link.strip() for link in list(f.readlines())[1:]]"
   ]
  },
  {
   "cell_type": "code",
   "execution_count": 14,
   "id": "c5d181f5",
   "metadata": {},
   "outputs": [],
   "source": [
    "# get all the json files in the folder\n",
    "json_files = list(sorted(glob.glob(join(\"data\", \"*.json\"))))\n",
    "\n",
    "# create a df to store data\n",
    "main_df = pd.DataFrame(columns=[\"CaseRef\",\"CaseDesc\",\"CaseType\",\"CaseURL\",\"PersonsData\"])\n",
    "\n",
    "# loop through and convert to csv\n",
    "for file in json_files:\n",
    "    with open(file) as f:\n",
    "        data = json.load(f)\n",
    "        temp_df = pd.DataFrame(data.values())\n",
    "    main_df = pd.concat([main_df, temp_df])\n",
    "    \n",
    "main_df.to_csv(join(\"data\", \"json_converted.csv\"))"
   ]
  },
  {
   "cell_type": "code",
   "execution_count": 26,
   "id": "9a588be7",
   "metadata": {},
   "outputs": [
    {
     "name": "stdout",
     "output_type": "stream",
     "text": [
      "{'Pants', 'Socks', 'Suit', 'Missing since', 'Eye colour', 'Tie', 'Chain', 'Waders', 'Scar', 'Jewelry', 'Hair', 'Bathing Suit', 'Foreign Object', 'Aliases', 'Sweater', 'Gloves', 'Complexion', 'Backpack', 'Boots', 'Vest', 'Skirt', 'Jeans', 'Amputation', 'Blouse', 'Scarf', 'Money', 'Gender', 'Jacket', 'Age at disappearance', 'Dress', 'Overalls', 'Height', 'Coveralls', 'Luggage', 'Ring', 'Leggings', 'Underwear', 'Cane', 'Coat', 'Deformity', 'Shirt', 'Shoes', 'Purse', 'Watch', 'Pyjama', 'Tattoo', 'Glasses', 'Belt', 'Weight', 'Build', 'Shorts', 'Wallet', 'Hat', 'Other', 'Pierce', 'Bio group', 'Nightgown', 'Teeth', 'Fractured/Broken Bones', 'Year of birth', 'Mark'}\n",
      "{'Pants', 'Socks', 'Suit', 'Eye colour', 'Chain', 'Tie', 'Scar', 'Jewelry', 'Hair', 'Bathing Suit', 'Foreign Object', 'Aliases', 'Sweater', 'Gloves', 'Backpack', 'Complexion', 'Medication', 'Boots', 'Vest', 'Skirt', 'Jeans', 'Amputation', 'Blouse', 'Scarf', 'Money', 'Gender', 'Jacket', 'Coveralls', 'Dress', 'Height', 'Leggings', 'Underwear', 'Ring', 'Luggage', 'Coat', 'Deformity', 'Shirt', 'Shoes', 'Purse', 'Watch', 'Pyjama', 'Tattoo', 'Glasses', 'Belt', 'Discovered on', 'Weight', 'Build', 'Shorts', 'Wallet', 'Hat', 'Other', 'Pierce', 'Bio group', 'Teeth', 'Fractured/Broken Bones', 'Est. age', 'Mark'}\n"
     ]
    }
   ],
   "source": [
    "missing_df = pd.DataFrame(main_df[main_df['CaseType'] == 'Missing'])\n",
    "unidentified_df = pd.DataFrame(main_df[main_df['CaseType'] == 'Unidentified'])\n",
    "\n"
   ]
  },
  {
   "cell_type": "code",
   "execution_count": null,
   "id": "b8646a00",
   "metadata": {
    "scrolled": false
   },
   "outputs": [],
   "source": [
    "def get_attributes(dataframe):\n",
    "    unique_attributes = set()\n",
    "\n",
    "    for _, row in dataframe.iterrows():\n",
    "        for person in row['PersonsData']:\n",
    "            unique_attributes.update(list(person['InfoSection'].keys()))\n",
    "\n",
    "    return unique_attributes\n",
    "\n",
    "print('## All Missing Persons Attributes')\n",
    "[print('- ' + a) for a in get_attributes(missing_df)]\n",
    "print('## All Unidentified Remains Attributes')\n",
    "[print('- ' + a) for a in get_attributes(unidentified_df)]\n"
   ]
  },
  {
   "cell_type": "markdown",
   "id": "c2c51429",
   "metadata": {},
   "source": [
    "# Unique Attributes Useful for Filtering\n",
    "- **Discovered on**\n",
    "- **Missing since**\n",
    "- Year of birth\n",
    "- Est. Age\n",
    "- Age at disappearance\n",
    "- Complexion\n",
    "- Eye colour\n",
    "- Height\n",
    "\n",
    "## All Missing Persons Attributes\n",
    "- Pants\n",
    "- Socks\n",
    "- Suit\n",
    "- Missing since\n",
    "- Eye colour\n",
    "- Tie\n",
    "- Chain\n",
    "- Waders\n",
    "- Scar\n",
    "- Jewelry\n",
    "- Hair\n",
    "- Bathing Suit\n",
    "- Foreign Object\n",
    "- Aliases\n",
    "- Sweater\n",
    "- Gloves\n",
    "- Complexion\n",
    "- Backpack\n",
    "- Boots\n",
    "- Vest\n",
    "- Skirt\n",
    "- Jeans\n",
    "- Amputation\n",
    "- Blouse\n",
    "- Scarf\n",
    "- Money\n",
    "- Gender\n",
    "- Jacket\n",
    "- Age at disappearance\n",
    "- Dress\n",
    "- Overalls\n",
    "- Height\n",
    "- Coveralls\n",
    "- Luggage\n",
    "- Ring\n",
    "- Leggings\n",
    "- Underwear\n",
    "- Cane\n",
    "- Coat\n",
    "- Deformity\n",
    "- Shirt\n",
    "- Shoes\n",
    "- Purse\n",
    "- Watch\n",
    "- Pyjama\n",
    "- Tattoo\n",
    "- Glasses\n",
    "- Belt\n",
    "- Weight\n",
    "- Build\n",
    "- Shorts\n",
    "- Wallet\n",
    "- Hat\n",
    "- Other\n",
    "- Pierce\n",
    "- Bio group\n",
    "- Nightgown\n",
    "- Teeth\n",
    "- Fractured/Broken Bones\n",
    "- Year of birth\n",
    "- Mark\n",
    "\n",
    "## All Unidentified Remains Attributes\n",
    "- Pants\n",
    "- Socks\n",
    "- Suit\n",
    "- Eye colour\n",
    "- Chain\n",
    "- Tie\n",
    "- Scar\n",
    "- Jewelry\n",
    "- Hair\n",
    "- Bathing Suit\n",
    "- Foreign Object\n",
    "- Aliases\n",
    "- Sweater\n",
    "- Gloves\n",
    "- Backpack\n",
    "- Complexion\n",
    "- Medication\n",
    "- Boots\n",
    "- Vest\n",
    "- Skirt\n",
    "- Jeans\n",
    "- Amputation\n",
    "- Blouse\n",
    "- Scarf\n",
    "- Money\n",
    "- Gender\n",
    "- Jacket\n",
    "- Coveralls\n",
    "- Dress\n",
    "- Height\n",
    "- Leggings\n",
    "- Underwear\n",
    "- Ring\n",
    "- Luggage\n",
    "- Coat\n",
    "- Deformity\n",
    "- Shirt\n",
    "- Shoes\n",
    "- Purse\n",
    "- Watch\n",
    "- Pyjama\n",
    "- Tattoo\n",
    "- Glasses\n",
    "- Belt\n",
    "- Discovered on\n",
    "- Weight\n",
    "- Build\n",
    "- Shorts\n",
    "- Wallet\n",
    "- Hat\n",
    "- Other\n",
    "- Pierce\n",
    "- Bio group\n",
    "- Teeth\n",
    "- Fractured/Broken Bones\n",
    "- Est. age\n",
    "- Mark\n"
   ]
  },
  {
   "cell_type": "code",
   "execution_count": 28,
   "id": "e399c0f7",
   "metadata": {},
   "outputs": [],
   "source": [
    "def format_age_range(raw_age_range_string):\n",
    "    result = re.search(r'(\\d+).*(\\d+)', raw_age_range_string)\n",
    "    \n",
    "    if result is None or len(result.groups()) != 3:\n",
    "        return None\n",
    "    \n",
    "    return [int(result.group(1)), int(result.group(2))]"
   ]
  },
  {
   "cell_type": "code",
   "execution_count": 7,
   "id": "72572ec9",
   "metadata": {
    "scrolled": true
   },
   "outputs": [
    {
     "name": "stderr",
     "output_type": "stream",
     "text": [
      "/Users/isaac/.local/share/virtualenvs/missing-persons-foNNpqC_/lib/python3.10/site-packages/dateparser/date_parser.py:35: PytzUsageWarning: The localize method is no longer necessary, as this time zone supports the fold attribute (PEP 495). For more details on migrating to a PEP 495-compliant implementation, see https://pytz-deprecation-shim.readthedocs.io/en/latest/migration.html\n",
      "  date_obj = stz.localize(date_obj)\n"
     ]
    },
    {
     "name": "stdout",
     "output_type": "stream",
     "text": [
      "CPU times: user 6.77 s, sys: 110 ms, total: 6.88 s\n",
      "Wall time: 7.77 s\n"
     ]
    }
   ],
   "source": [
    "%%time\n",
    "\n",
    "def get_all_attribute_from_all_persons(attribute_name, attribute_function, df):\n",
    "    people_with_attribute = []\n",
    "    \n",
    "    for index, row in df.iterrows():\n",
    "        for person in row['PersonsData']:\n",
    "            attribute = [row['CaseURL'], attribute_function(person['InfoSection'][attribute_name][0])]\n",
    "            people_with_attribute.append(attribute)\n",
    "            \n",
    "    return people_with_attribute\n",
    "            \n",
    "unidentified_disovered_at = get_all_attribute_from_all_persons('Discovered on', cache(dateparser.parse), unidentified_df)\n",
    "missing_missing_since = get_all_attribute_from_all_persons('Missing since', cache(dateparser.parse), missing_df)"
   ]
  },
  {
   "cell_type": "code",
   "execution_count": 8,
   "id": "7ea92a14",
   "metadata": {},
   "outputs": [],
   "source": [
    "def person_data_data_frame(df, attributes):\n",
    "    person_data_frame = {'Person URL': []}\n",
    "    for attribute in attributes:\n",
    "        person_data_frame[attribute] = []\n",
    "\n",
    "    for _, row in df.iterrows():\n",
    "        for person in row['PersonsData']:\n",
    "            person_data_frame['Person URL'].append(row['CaseURL'])\n",
    "\n",
    "            for attribute in attributes:\n",
    "                if attribute in person['InfoSection']:\n",
    "                    person_data_frame[attribute].append(person['InfoSection'][attribute][0])\n",
    "                else:\n",
    "                    person_data_frame[attribute].append(None)\n",
    "\n",
    "    return pd.DataFrame(data=person_data_frame)"
   ]
  },
  {
   "cell_type": "code",
   "execution_count": 9,
   "id": "555e9c22",
   "metadata": {},
   "outputs": [
    {
     "name": "stdout",
     "output_type": "stream",
     "text": [
      "0      None\n",
      "1      None\n",
      "2      None\n",
      "3      None\n",
      "4      None\n",
      "       ... \n",
      "369    None\n",
      "370    None\n",
      "371    None\n",
      "372    None\n",
      "373    None\n",
      "Name: Est. age, Length: 374, dtype: object\n"
     ]
    }
   ],
   "source": [
    "my_df = person_data_data_frame(unidentified_df, ['Discovered on', 'Est. age'])\n",
    "print(my_df['Est. age'].apply(format_age_range))"
   ]
  },
  {
   "cell_type": "code",
   "execution_count": 11,
   "id": "2e0e6ba4",
   "metadata": {},
   "outputs": [
    {
     "name": "stdout",
     "output_type": "stream",
     "text": [
      "['https://www.services.rcmp-grc.gc.ca/missing-disparus/case-dossier.jsf?case=2020008698&id=18', 'https://www.services.rcmp-grc.gc.ca/missing-disparus/case-dossier.jsf?case=2014001136&id=27']\n"
     ]
    }
   ],
   "source": [
    "\n",
    "potential_matches = []\n",
    "\n",
    "for missing_person in missing_missing_since:\n",
    "    for unidentified in unidentified_disovered_at:\n",
    "        if missing_person[1] < unidentified[1]:\n",
    "            potential_matches.append([missing_person[0], unidentified[0]])\n",
    "            \n",
    "print(potential_matches[0])"
   ]
  },
  {
   "cell_type": "code",
   "execution_count": null,
   "id": "c0d4040a",
   "metadata": {},
   "outputs": [],
   "source": []
  },
  {
   "cell_type": "code",
   "execution_count": null,
   "id": "32dbe33f",
   "metadata": {},
   "outputs": [],
   "source": []
  }
 ],
 "metadata": {
  "interpreter": {
   "hash": "44d98258a04936e27733d1decb520b0438f2fd6b7aa99c39f133b313202d2ee1"
  },
  "kernelspec": {
   "display_name": "Python 3.10.0 ('missing-persons-foNNpqC_')",
   "language": "python",
   "name": "python3"
  },
  "language_info": {
   "codemirror_mode": {
    "name": "ipython",
    "version": 3
   },
   "file_extension": ".py",
   "mimetype": "text/x-python",
   "name": "python",
   "nbconvert_exporter": "python",
   "pygments_lexer": "ipython3",
   "version": "3.10.5"
  }
 },
 "nbformat": 4,
 "nbformat_minor": 5
}
