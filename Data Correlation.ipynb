{
 "cells": [
  {
   "cell_type": "code",
   "execution_count": null,
   "id": "06bfe78e",
   "metadata": {},
   "outputs": [],
   "source": [
    "import json\n",
    "import glob\n",
    "import re\n",
    "from functools import cache\n",
    "from itertools import product\n",
    "from os.path import join\n",
    "from typing import Optional\n",
    "\n",
    "import dateparser\n",
    "\n",
    "setattr(dateparser, \"parse\", cache(dateparser.parse))"
   ]
  },
  {
   "cell_type": "code",
   "execution_count": null,
   "id": "c5d181f5",
   "metadata": {
    "scrolled": true
   },
   "outputs": [],
   "source": [
    "# get all the json files in the folder\n",
    "json_files = list(sorted(glob.glob(join(\"data\", \"RCMP*.json\"))))\n",
    "\n",
    "# create a dict to store data\n",
    "main_cases = []\n",
    "\n",
    "# loop through and convert to csv\n",
    "for file in json_files:\n",
    "    with open(file) as f:\n",
    "        data = json.load(f)\n",
    "        main_cases.extend(data.values())"
   ]
  },
  {
   "cell_type": "code",
   "execution_count": null,
   "id": "b8646a00",
   "metadata": {
    "scrolled": false
   },
   "outputs": [],
   "source": [
    "unique_attributes = set()\n",
    "\n",
    "for row in main_cases:\n",
    "    for person in row['PersonsData']:\n",
    "        unique_attributes.update(list(person['InfoSection'].keys()))\n",
    "        \n",
    "print(sorted(unique_attributes))"
   ]
  },
  {
   "cell_type": "code",
   "execution_count": null,
   "id": "5b0df0e7",
   "metadata": {},
   "outputs": [],
   "source": [
    "# The data comes in as a list of cases with multiple people per case\n",
    "# This method will convert the cases to a list of people with a unique key for each person as the index\n",
    "# Use a list of people to do logic with, and then convert back to cases for the front end\n",
    "def flatten_cases_to_people(cases):\n",
    "    people = {}\n",
    "    \n",
    "    for case in cases:\n",
    "        case_without_persons = case.copy()\n",
    "        case_without_persons.pop('PersonsData')\n",
    "        \n",
    "        for person in case['PersonsData']:\n",
    "            key = case['CaseRef'] + '%%' + person['Name']\n",
    "            \n",
    "            people[key] = person['InfoSection'] | {'Images': person['Images']} | case_without_persons\n",
    "            people[key]['Name'] = person['Name']\n",
    "            \n",
    "    return people\n",
    "\n",
    "\n",
    "persons_data = flatten_cases_to_people(main_cases)\n",
    "\n",
    "missing_persons = [persons_data[p] | {'PersonID': p} for p in persons_data if persons_data[p][\"CaseType\"] == \"Missing\"]\n",
    "unidentified_remains = [persons_data[p] for p in persons_data if persons_data[p][\"CaseType\"] == \"Unidentified\"]"
   ]
  },
  {
   "cell_type": "markdown",
   "id": "c2c51429",
   "metadata": {},
   "source": [
    "# Unique Attributes Useful for Filtering\n",
    "- [x] **Discovered on**\n",
    "- [x] **Missing since**\n",
    "- [x] Year of birth\n",
    "- [x] Est. Age\n",
    "- [x] Age at disappearance\n",
    "- [x] Hair\n",
    "- [x] Tattoo\n",
    "- [x] Marks\n",
    "- [ ] Complexion\n",
    "- [ ] Eye colour\n",
    "- [x] Height\n",
    "- [x] Weight"
   ]
  },
  {
   "cell_type": "code",
   "execution_count": null,
   "id": "e399c0f7",
   "metadata": {},
   "outputs": [],
   "source": [
    "def format_age_range(raw_age_range_string):\n",
    "    result = re.search(r'(\\d+)[^\\d]+?(\\d+)', raw_age_range_string, re.M)\n",
    "    \n",
    "    if result is None or len(result.groups()) != 2:\n",
    "        return None\n",
    "    \n",
    "    g = list(result.groups())\n",
    "    return [int(g[0]), int(g[1])]"
   ]
  },
  {
   "cell_type": "code",
   "execution_count": null,
   "id": "68eb064d",
   "metadata": {},
   "outputs": [],
   "source": [
    "def format_weight(raw_weight_string) -> int:\n",
    "    result = re.search(r'(\\d+)kg', raw_weight_string, re.M)\n",
    "    \n",
    "    if result is None or len(result.groups()) != 1:\n",
    "        return None \n",
    "    \n",
    "    return int(result.groups()[0])"
   ]
  },
  {
   "cell_type": "code",
   "execution_count": null,
   "id": "518338a5",
   "metadata": {},
   "outputs": [],
   "source": [
    "# Missing people have a percise height, unidentified remains have a range or a percise height\n",
    "\n",
    "def format_height(raw_height_string) -> int:\n",
    "    result = re.search(r'(\\d+)cm', raw_height_string, re.M)\n",
    "    \n",
    "    if result is None or len(result.groups()) != 1:\n",
    "        return None \n",
    "    \n",
    "    return int(result.groups()[0])\n",
    "\n",
    "def format_height_range(raw_height_string):\n",
    "    result = re.search(r'(\\d+)cm.* (\\d+)cm', raw_height_string, re.M)\n",
    "    \n",
    "    if result is None or len(result.groups()) != 2:\n",
    "        return None\n",
    "    \n",
    "    g = list(result.groups())\n",
    "    return [int(g[0]), int(g[1])]"
   ]
  },
  {
   "cell_type": "code",
   "execution_count": null,
   "id": "8ef2116c",
   "metadata": {},
   "outputs": [],
   "source": [
    "def was_found_after_reported(unidentified, missing) -> bool:\n",
    "    unidentified_found = dateparser.parse(unidentified[\"Discovered on\"][0])\n",
    "    missing_missing = dateparser.parse(missing[\"Missing since\"][0])\n",
    "\n",
    "    return  unidentified_found > missing_missing"
   ]
  },
  {
   "cell_type": "code",
   "execution_count": null,
   "id": "5a22120d",
   "metadata": {},
   "outputs": [],
   "source": [
    "def potential_gender_match(unidentified, missing) -> bool:\n",
    "    try:\n",
    "        unidentified_gender = unidentified[\"Gender\"][0]\n",
    "        missing_gender = missing[\"Gender\"][0]\n",
    "    \n",
    "        if unidentified_gender == missing_gender:\n",
    "            return True\n",
    "        elif unidentified_gender.lower() not in [\"male\", \"female\"] or missing_gender.lower() not in [\"male\", \"female\"]:\n",
    "            return True\n",
    "    except:\n",
    "        return True\n",
    "        \n",
    "    return False"
   ]
  },
  {
   "cell_type": "code",
   "execution_count": null,
   "id": "c6c74b97",
   "metadata": {},
   "outputs": [],
   "source": [
    "def age_approximately_as_expected(u, m) -> bool:\n",
    "    unidentified_age_est = format_age_range(u[\"Est. age\"][0])\n",
    "            \n",
    "    if unidentified_age_est is None:\n",
    "        return False\n",
    "    \n",
    "    # tweak the range to be a bit more generous\n",
    "    unidentified_age_est = [unidentified_age_est[0] * 0.8, unidentified_age_est[1] * 1.2]\n",
    "\n",
    "\n",
    "    # this range goes from the youngest possible age, the age at disappearance, to the\n",
    "    # oldest, which is how old they'd be when the unidentified remains were found    \n",
    "    missing_age_range = (int(m[\"Age at disappearance\"][0]),\n",
    "                         (dateparser.parse(u[\"Discovered on\"][0]) - dateparser.parse(m[\"Year of birth\"][0])).days / 365)\n",
    "        \n",
    "    # return if there's overlap between the two ranges\n",
    "    return unidentified_age_est[1] > missing_age_range[0] and unidentified_age_est[0] < missing_age_range[1]"
   ]
  },
  {
   "cell_type": "code",
   "execution_count": null,
   "id": "b466856a",
   "metadata": {},
   "outputs": [],
   "source": [
    "MAX_WEIGHT_DIFFERENCE = 10 #kg\n",
    "\n",
    "def weight_approximately_as_expected(u, m) -> Optional[float]:\n",
    "    \n",
    "    # ignore if no weight value\n",
    "    if not('Weight' in u and 'Weight' in m):\n",
    "        return 0.0\n",
    "    \n",
    "    u_weight = format_weight(u['Weight'])\n",
    "    m_weight = format_weight(m['Weight'])\n",
    "    \n",
    "    # ignore if somehow improperly formatted\n",
    "    if u_weight is None or m_weight is None:\n",
    "        return 0.0\n",
    "    \n",
    "    weight_closeness = abs(u_weight - m_weight)\n",
    "\n",
    "    if weight_closeness > MAX_WEIGHT_DIFFERENCE:\n",
    "        return None\n",
    "\n",
    "    return 1 - (weight_closeness / MAX_WEIGHT_DIFFERENCE)\n",
    "\n",
    "# TODO: change weight range as a function of time. e.g. if they have been missing for 2 days, use tight range\n",
    "#  if missing for years have a more generous range"
   ]
  },
  {
   "cell_type": "code",
   "execution_count": null,
   "id": "df84189c",
   "metadata": {},
   "outputs": [],
   "source": [
    "MAX_HEIGHT_DIFFERENCE = 15 # cm\n",
    "\n",
    "def height_approximately_as_expected(u, m) -> Optional[float]:\n",
    "    # ignore if no weight value\n",
    "    if not('Height' in u and 'Height' in m):\n",
    "        return 0.0\n",
    "    \n",
    "    m_height = format_height(m['Weight'])\n",
    "    u_height = format_height_range(u['Weight'])\n",
    "\n",
    "    if u_height is None:\n",
    "        u_height = format_height(u['Weight'])\n",
    "    else:\n",
    "        # make sure height is not a range\n",
    "        u_height = (u_height[0] + u_height[1]) / 2\n",
    "        \n",
    "    # ignore if can't parse\n",
    "    if m_height is None or u_height is None:\n",
    "        return 0.0\n",
    "\n",
    "    # number of cm difference\n",
    "    height_closeness = abs(u_height - m_height)\n",
    "\n",
    "    if height_closeness > MAX_HEIGHT_DIFFERENCE:\n",
    "        return None\n",
    "\n",
    "    return 1 - (height_closeness / MAX_HEIGHT_DIFFERENCE)"
   ]
  },
  {
   "cell_type": "code",
   "execution_count": null,
   "id": "c9ca5009",
   "metadata": {},
   "outputs": [],
   "source": [
    "# naive check to see if either both or neither have a \"Tattoo\" key\n",
    "def tattoo_matching(u, m) -> bool:\n",
    "    return (\"Tattoo\" in u) == (\"Tattoo\" in m)"
   ]
  },
  {
   "cell_type": "code",
   "execution_count": null,
   "id": "7b801fd1",
   "metadata": {},
   "outputs": [],
   "source": [
    "MARK_SCORE = 0.7\n",
    "\n",
    "# naive check to see if either both or neither have a \"Mark\" key\n",
    "def mark_matching(u, m) -> Optional[float]:\n",
    "    if (\"Mark\" in u) == (\"Mark\" in m):\n",
    "        return MARK_SCORE\n",
    "    else:\n",
    "        return 0.0"
   ]
  },
  {
   "cell_type": "code",
   "execution_count": null,
   "id": "c57a7f85",
   "metadata": {},
   "outputs": [],
   "source": [
    "HAIR_SCORE = 0.7\n",
    "\n",
    "def potential_hair_match(unidentified, missing) -> Optional[float]:\n",
    "    try:\n",
    "        unidentified_hair = unidentified[\"Hair\"][0].lower()\n",
    "        missing_hair = missing[\"Hair\"][0].lower()\n",
    "    \n",
    "        if unidentified_hair == missing_hair:\n",
    "            return HAIR_SCORE\n",
    "    except:\n",
    "        # if we can't pull any hair data from either, it stays a potential match\n",
    "        return 0.0\n",
    "\n",
    "    return None"
   ]
  },
  {
   "cell_type": "code",
   "execution_count": null,
   "id": "9a6ee74d",
   "metadata": {},
   "outputs": [],
   "source": [
    "BIO_SCORE = 0.7\n",
    "\n",
    "def potential_bio_group_match(unidentified, missing) -> Optional[float]:\n",
    "    try:\n",
    "        unidentified_bio_group = unidentified[\"Bio group\"][0].lower()\n",
    "        missing_bio_group = missing[\"Bio group\"][0].lower()\n",
    "    \n",
    "        if unidentified_bio_group == missing_bio_group:\n",
    "            return BIO_SCORE\n",
    "    except:\n",
    "        return BIO_SCORE\n",
    "\n",
    "    return None"
   ]
  },
  {
   "cell_type": "code",
   "execution_count": null,
   "id": "8bdad069",
   "metadata": {
    "scrolled": false
   },
   "outputs": [],
   "source": [
    "%%time\n",
    "\n",
    "potential_matches_complete_objects = []\n",
    "\n",
    "comparison_functions = [\n",
    "    was_found_after_reported,\n",
    "    potential_gender_match,\n",
    "    age_approximately_as_expected,\n",
    "    potential_hair_match,\n",
    "    tattoo_matching,\n",
    "    potential_bio_group_match,\n",
    "    weight_approximately_as_expected,\n",
    "    height_approximately_as_expected,\n",
    "    # mark_matching,\n",
    "]\n",
    "\n",
    "def get_match_score(unidentified, missing) -> Optional[float]:\n",
    "    match_score = 0.0\n",
    "    for f in comparison_functions:\n",
    "        try:\n",
    "            comparison_score = f(unidentified, missing)\n",
    "            if comparison_score is None or comparison_score is False:\n",
    "                return None\n",
    "            else:\n",
    "                match_score += comparison_score\n",
    "        except Exception as e:\n",
    "            return None\n",
    "    \n",
    "    return match_score\n",
    "\n",
    "potential_matches = 0\n",
    "export_unidentified = {u['CaseRef']: u | {'MatchedRemains': []} for u in unidentified_remains}\n",
    "export_missing = {mp['PersonID']: mp | {'MatchedUnidentified': []} for mp in missing_persons}\n",
    "\n",
    "for unidentified, missing in product(unidentified_remains, missing_persons):\n",
    "    # do comparisons of missing and unidentified using all known comparison functions\n",
    "    # If it's a possible match, append to the list of potential matches\n",
    "    match_score = get_match_score(unidentified, missing)\n",
    "    if match_score is not None:\n",
    "        potential_matches += 1\n",
    "        export_unidentified[unidentified['CaseRef']]['MatchedRemains'].append(missing['PersonID'])\n",
    "        export_missing[missing['PersonID']]['MatchedUnidentified'].append(unidentified['CaseRef'])\n",
    "        \n",
    "possible_total_matches = len(unidentified_remains)*len(missing_persons)\n",
    "print(f\"Reduced to {potential_matches} out of a possible {possible_total_matches} matches ({int(100*potential_matches/possible_total_matches)}%)\")\n",
    "\n",
    "with open(\"data/missing_lookup.json\", \"w\") as f:\n",
    "    json.dump(export_missing, f, indent=4)\n",
    "    \n",
    "with open(\"data/unidentified_lookup.json\", \"w\") as f:\n",
    "    json.dump(export_unidentified, f, indent=4)"
   ]
  },
  {
   "cell_type": "code",
   "execution_count": null,
   "id": "ed6246c6",
   "metadata": {},
   "outputs": [],
   "source": []
  }
 ],
 "metadata": {
  "interpreter": {
   "hash": "44d98258a04936e27733d1decb520b0438f2fd6b7aa99c39f133b313202d2ee1"
  },
  "kernelspec": {
   "display_name": "Python 3 (ipykernel)",
   "language": "python",
   "name": "python3"
  },
  "language_info": {
   "codemirror_mode": {
    "name": "ipython",
    "version": 3
   },
   "file_extension": ".py",
   "mimetype": "text/x-python",
   "name": "python",
   "nbconvert_exporter": "python",
   "pygments_lexer": "ipython3",
   "version": "3.10.9"
  }
 },
 "nbformat": 4,
 "nbformat_minor": 5
}
