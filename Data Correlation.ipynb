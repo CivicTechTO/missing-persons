{
 "cells": [
  {
   "cell_type": "code",
   "execution_count": null,
   "id": "06bfe78e",
   "metadata": {},
   "outputs": [],
   "source": [
    "import json\n",
    "import glob\n",
    "from os.path import join\n",
    "import dateparser\n",
    "import pandas as pd"
   ]
  },
  {
   "cell_type": "code",
   "execution_count": null,
   "id": "f0a0b866",
   "metadata": {},
   "outputs": [],
   "source": [
    "# URLs\n",
    "with open('list.csv') as f:\n",
    "    URLs = [link.strip() for link in list(f.readlines())[1:]]"
   ]
  },
  {
   "cell_type": "code",
   "execution_count": null,
   "id": "c5d181f5",
   "metadata": {},
   "outputs": [],
   "source": [
    "# get all the json files in the folder\n",
    "json_files = list(sorted(glob.glob(join(\"data\", \"*.json\"))))\n",
    "\n",
    "# create a df to store data\n",
    "main_df = pd.DataFrame(columns=[\"CaseRef\",\"CaseDesc\",\"CaseType\",\"CaseURL\",\"PersonsData\"])\n",
    "\n",
    "# loop through and convert to csv\n",
    "for file in json_files:\n",
    "    with open(file) as f:\n",
    "        data = json.load(f)\n",
    "        temp_df = pd.DataFrame(data.values())\n",
    "    main_df = pd.concat([main_df, temp_df])\n",
    "    \n",
    "main_df.to_csv(join(\"data\", \"json_converted.csv\"))"
   ]
  },
  {
   "cell_type": "code",
   "execution_count": null,
   "id": "b8646a00",
   "metadata": {
    "scrolled": false
   },
   "outputs": [],
   "source": [
    "unique_attriutes = set()\n",
    "\n",
    "for index, row in main_df.iterrows():\n",
    "    for person in row['PersonsData']:\n",
    "        unique_attriutes.update(list(person['InfoSection'].keys()))\n",
    "        \n",
    "print(unique_attriutes)"
   ]
  },
  {
   "cell_type": "markdown",
   "id": "c2c51429",
   "metadata": {},
   "source": [
    "# Unique Attributes Useful for Filtering\n",
    "- **Discovered on**\n",
    "- **Missing since**\n",
    "- Year of birth\n",
    "- Est. Age\n",
    "- Age at disappearance\n",
    "- Complexion\n",
    "- Eye colour\n",
    "- Height"
   ]
  },
  {
   "cell_type": "code",
   "execution_count": null,
   "id": "9a588be7",
   "metadata": {},
   "outputs": [],
   "source": [
    "missing_df = main_df[main_df['CaseType'] == 'Missing']\n",
    "unidentified_df = main_df[main_df['CaseType'] == 'Unidentified']"
   ]
  },
  {
   "cell_type": "code",
   "execution_count": null,
   "id": "72572ec9",
   "metadata": {
    "scrolled": true
   },
   "outputs": [],
   "source": [
    "%%time\n",
    "\n",
    "def get_all_attribute_from_all_persons(attribute_name, attribute_function, df):\n",
    "    people_with_attribute = []\n",
    "    \n",
    "    for index, row in df.iterrows():\n",
    "        for person in row['PersonsData']:\n",
    "            attribute = [row['CaseURL'], attribute_function(person['InfoSection'][attribute_name][0])]\n",
    "            people_with_attribute.append(attribute)\n",
    "            \n",
    "    return people_with_attribute\n",
    "            \n",
    "unidentified_disovered_at = get_all_attribute_from_all_persons('Discovered on', dateparser.parse, unidentified_df)\n",
    "missing_missing_since = get_all_attribute_from_all_persons('Missing since', dateparser.parse, missing_df)"
   ]
  },
  {
   "cell_type": "code",
   "execution_count": null,
   "id": "2e0e6ba4",
   "metadata": {},
   "outputs": [],
   "source": [
    "potential_matches = []\n",
    "\n",
    "for missing_person in missing_missing_since:\n",
    "    for unidentified in unidentified_disovered_at:\n",
    "        if missing_person[1] < unidentified[1]:\n",
    "            potential_matches.append([missing_person[0], unidentified[0]])\n",
    "            \n",
    "print(potential_matches)"
   ]
  },
  {
   "cell_type": "code",
   "execution_count": null,
   "id": "c0d4040a",
   "metadata": {},
   "outputs": [],
   "source": []
  }
 ],
 "metadata": {
  "kernelspec": {
   "display_name": "Python 3 (ipykernel)",
   "language": "python",
   "name": "python3"
  },
  "language_info": {
   "codemirror_mode": {
    "name": "ipython",
    "version": 3
   },
   "file_extension": ".py",
   "mimetype": "text/x-python",
   "name": "python",
   "nbconvert_exporter": "python",
   "pygments_lexer": "ipython3",
   "version": "3.10.0"
  }
 },
 "nbformat": 4,
 "nbformat_minor": 5
}
