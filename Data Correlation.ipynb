{
 "cells": [
  {
   "cell_type": "code",
   "execution_count": null,
   "id": "06bfe78e",
   "metadata": {},
   "outputs": [],
   "source": [
    "import json\n",
    "import glob\n",
    "import re\n",
    "from functools import cache\n",
    "from itertools import product\n",
    "from os.path import join\n",
    "\n",
    "import dateparser\n",
    "import pandas as pd"
   ]
  },
  {
   "cell_type": "code",
   "execution_count": null,
   "id": "f0a0b866",
   "metadata": {},
   "outputs": [],
   "source": [
    "# URLs\n",
    "with open('list.csv') as f:\n",
    "    URLs = [link.strip() for link in list(f.readlines())[1:]]"
   ]
  },
  {
   "cell_type": "code",
   "execution_count": null,
   "id": "c5d181f5",
   "metadata": {},
   "outputs": [],
   "source": [
    "# get all the json files in the folder\n",
    "json_files = list(sorted(glob.glob(join(\"data\", \"*.json\"))))\n",
    "\n",
    "# create a df to store data\n",
    "main_df = pd.DataFrame(columns=[\"CaseRef\",\"CaseDesc\",\"CaseType\",\"CaseURL\",\"PersonsData\"])\n",
    "\n",
    "# loop through and convert to csv\n",
    "for file in json_files:\n",
    "    with open(file) as f:\n",
    "        data = json.load(f)\n",
    "        temp_df = pd.DataFrame(data.values())\n",
    "    main_df = pd.concat([main_df, temp_df])\n",
    "    \n",
    "main_df.to_csv(join(\"data\", \"json_converted.csv\"))"
   ]
  },
  {
   "cell_type": "code",
   "execution_count": null,
   "id": "b8646a00",
   "metadata": {
    "scrolled": false
   },
   "outputs": [],
   "source": [
    "missing_df = pd.DataFrame(main_df[main_df['CaseType'] == 'Missing'])\n",
    "unidentified_df = pd.DataFrame(main_df[main_df['CaseType'] == 'Unidentified'])\n",
    "\n"
   ]
  },
  {
   "cell_type": "code",
   "execution_count": null,
   "id": "b8646a00",
   "metadata": {
    "scrolled": false
   },
   "outputs": [],
   "source": [
    "def get_attributes(dataframe):\n",
    "    unique_attributes = set()\n",
    "\n",
    "    for _, row in dataframe.iterrows():\n",
    "        for person in row['PersonsData']:\n",
    "            unique_attributes.update(list(person['InfoSection'].keys()))\n",
    "\n",
    "    return unique_attributes\n",
    "\n",
    "print('## All Missing Persons Attributes')\n",
    "[print('- ' + a) for a in get_attributes(missing_df)]\n",
    "print('## All Unidentified Remains Attributes')\n",
    "[print('- ' + a) for a in get_attributes(unidentified_df)]\n"
   ]
  },
  {
   "cell_type": "markdown",
   "id": "c2c51429",
   "metadata": {},
   "source": [
    "# Unique Attributes Useful for Filtering\n",
    "- **Discovered on**\n",
    "- **Missing since**\n",
    "- Year of birth\n",
    "- Est. Age\n",
    "- Age at disappearance\n",
    "- Complexion\n",
    "- Eye colour\n",
    "- Height\n",
    "\n",
    "## All Missing Persons Attributes\n",
    "- Pants\n",
    "- Socks\n",
    "- Suit\n",
    "- Missing since\n",
    "- Eye colour\n",
    "- Tie\n",
    "- Chain\n",
    "- Waders\n",
    "- Scar\n",
    "- Jewelry\n",
    "- Hair\n",
    "- Bathing Suit\n",
    "- Foreign Object\n",
    "- Aliases\n",
    "- Sweater\n",
    "- Gloves\n",
    "- Complexion\n",
    "- Backpack\n",
    "- Boots\n",
    "- Vest\n",
    "- Skirt\n",
    "- Jeans\n",
    "- Amputation\n",
    "- Blouse\n",
    "- Scarf\n",
    "- Money\n",
    "- Gender\n",
    "- Jacket\n",
    "- Age at disappearance\n",
    "- Dress\n",
    "- Overalls\n",
    "- Height\n",
    "- Coveralls\n",
    "- Luggage\n",
    "- Ring\n",
    "- Leggings\n",
    "- Underwear\n",
    "- Cane\n",
    "- Coat\n",
    "- Deformity\n",
    "- Shirt\n",
    "- Shoes\n",
    "- Purse\n",
    "- Watch\n",
    "- Pyjama\n",
    "- Tattoo\n",
    "- Glasses\n",
    "- Belt\n",
    "- Weight\n",
    "- Build\n",
    "- Shorts\n",
    "- Wallet\n",
    "- Hat\n",
    "- Other\n",
    "- Pierce\n",
    "- Bio group\n",
    "- Nightgown\n",
    "- Teeth\n",
    "- Fractured/Broken Bones\n",
    "- Year of birth\n",
    "- Mark\n",
    "\n",
    "## All Unidentified Remains Attributes\n",
    "- Pants\n",
    "- Socks\n",
    "- Suit\n",
    "- Eye colour\n",
    "- Chain\n",
    "- Tie\n",
    "- Scar\n",
    "- Jewelry\n",
    "- Hair\n",
    "- Bathing Suit\n",
    "- Foreign Object\n",
    "- Aliases\n",
    "- Sweater\n",
    "- Gloves\n",
    "- Backpack\n",
    "- Complexion\n",
    "- Medication\n",
    "- Boots\n",
    "- Vest\n",
    "- Skirt\n",
    "- Jeans\n",
    "- Amputation\n",
    "- Blouse\n",
    "- Scarf\n",
    "- Money\n",
    "- Gender\n",
    "- Jacket\n",
    "- Coveralls\n",
    "- Dress\n",
    "- Height\n",
    "- Leggings\n",
    "- Underwear\n",
    "- Ring\n",
    "- Luggage\n",
    "- Coat\n",
    "- Deformity\n",
    "- Shirt\n",
    "- Shoes\n",
    "- Purse\n",
    "- Watch\n",
    "- Pyjama\n",
    "- Tattoo\n",
    "- Glasses\n",
    "- Belt\n",
    "- Discovered on\n",
    "- Weight\n",
    "- Build\n",
    "- Shorts\n",
    "- Wallet\n",
    "- Hat\n",
    "- Other\n",
    "- Pierce\n",
    "- Bio group\n",
    "- Teeth\n",
    "- Fractured/Broken Bones\n",
    "- Est. age\n",
    "- Mark\n"
   ]
  },
  {
   "cell_type": "code",
   "execution_count": null,
   "id": "e399c0f7",
   "metadata": {},
   "outputs": [],
   "source": [
    "def format_age_range(raw_age_range_string):\n",
    "    result = re.search(r'(\\d+).*(\\d+)', raw_age_range_string)\n",
    "    \n",
    "    if result is None or len(result.groups()) != 3:\n",
    "        return None\n",
    "    \n",
    "    return [int(result.group(1)), int(result.group(2))]"
   ]
  },
  {
   "cell_type": "code",
   "execution_count": null,
   "id": "9a588be7",
   "metadata": {},
   "outputs": [],
   "source": [
    "missing_df = main_df[main_df['CaseType'] == 'Missing']\n",
    "unidentified_df = main_df[main_df['CaseType'] == 'Unidentified']"
   ]
  },
  {
   "cell_type": "code",
   "execution_count": null,
   "id": "72572ec9",
   "metadata": {
    "scrolled": true
   },
   "outputs": [],
   "source": [
    "%%time\n",
    "\n",
    "def get_all_attribute_from_all_persons(attribute_name, attribute_function, df):\n",
    "    people_with_attribute = []\n",
    "    \n",
    "    for index, row in df.iterrows():\n",
    "        for person in row['PersonsData']:\n",
    "            attribute = [row['CaseURL'], attribute_function(person['InfoSection'][attribute_name][0])]\n",
    "            people_with_attribute.append(attribute)\n",
    "            \n",
    "    return people_with_attribute\n",
    "            \n",
    "unidentified_disovered_at = get_all_attribute_from_all_persons('Discovered on', cache(dateparser.parse), unidentified_df)\n",
    "missing_missing_since = get_all_attribute_from_all_persons('Missing since', cache(dateparser.parse), missing_df)"
   ]
  },
  {
   "cell_type": "code",
   "execution_count": null,
   "id": "7ea92a14",
   "metadata": {},
   "outputs": [],
   "source": [
    "def person_data_data_frame(df, attributes):\n",
    "    person_data_frame = {'Person URL': []}\n",
    "    for attribute in attributes:\n",
    "        person_data_frame[attribute] = []\n",
    "\n",
    "    for _, row in df.iterrows():\n",
    "        for person in row['PersonsData']:\n",
    "            person_data_frame['Person URL'].append(row['CaseURL'])\n",
    "\n",
    "            for attribute in attributes:\n",
    "                if attribute in person['InfoSection']:\n",
    "                    person_data_frame[attribute].append(person['InfoSection'][attribute][0])\n",
    "                else:\n",
    "                    person_data_frame[attribute].append(None)\n",
    "\n",
    "    return pd.DataFrame(data=person_data_frame)"
   ]
  },
  {
   "cell_type": "code",
   "execution_count": null,
   "id": "555e9c22",
   "metadata": {},
   "outputs": [],
   "source": [
    "my_df = person_data_data_frame(unidentified_df, ['Discovered on', 'Est. age'])\n",
    "print(my_df['Est. age'].apply(format_age_range))"
   ]
  },
  {
   "cell_type": "code",
   "execution_count": null,
   "id": "2e0e6ba4",
   "metadata": {},
   "outputs": [],
   "source": [
    "\n",
    "potential_matches = []\n",
    "\n",
    "for missing_person in missing_missing_since:\n",
    "    for unidentified in unidentified_disovered_at:\n",
    "        if missing_person[1] < unidentified[1]:\n",
    "            potential_matches.append([missing_person[0], unidentified[0]])\n",
    "            \n",
    "print(potential_matches[0])"
   ]
  },
  {
   "cell_type": "code",
   "execution_count": null,
   "id": "1b8b7dc2",
   "metadata": {},
   "outputs": [],
   "source": [
    "@cache\n",
    "def cached_datetime_parser(*args, **kwargs):\n",
    "    return dateparser.parse(*args, **kwargs)"
   ]
  },
  {
   "cell_type": "code",
   "execution_count": null,
   "id": "8ef2116c",
   "metadata": {},
   "outputs": [],
   "source": [
    "def was_found_after_reported(unidentified, missing) -> bool:\n",
    "    pass"
   ]
  },
  {
   "cell_type": "code",
   "execution_count": null,
   "id": "1408d45b",
   "metadata": {},
   "outputs": [],
   "source": [
    "%%time\n",
    "\n",
    "potential_matches_complete_objects = []\n",
    "\n",
    "comparison_functions = []\n",
    "\n",
    "for (_, unidentified), (_, missing) in product(unidentified_df.iterrows(), missing_df.iterrows()):\n",
    "    # do comparisons of missing and unidentified using all known comparison functions\n",
    "    # If it's a possible match, append to the list of potential matches\n",
    "    if all(f(unidentified, missing) for f in comparison_functions):\n",
    "        potential_matches_complete_objects.append((unidentified, missing))\n",
    "        \n",
    "print(potential_matches_complete_objects[0][0])\n",
    "print()\n",
    "print(potential_matches_complete_objects[0][1])"
   ]
  },
  {
   "cell_type": "code",
   "execution_count": null,
   "id": "bceaf1d2",
   "metadata": {},
   "outputs": [],
   "source": []
  },
  {
   "cell_type": "code",
   "execution_count": null,
   "id": "32dbe33f",
   "metadata": {},
   "outputs": [],
   "source": []
  }
 ],
 "metadata": {
  "interpreter": {
   "hash": "44d98258a04936e27733d1decb520b0438f2fd6b7aa99c39f133b313202d2ee1"
  },
  "kernelspec": {
   "display_name": "Python 3 (ipykernel)",
   "language": "python",
   "name": "python3"
  },
  "language_info": {
   "codemirror_mode": {
    "name": "ipython",
    "version": 3
   },
   "file_extension": ".py",
   "mimetype": "text/x-python",
   "name": "python",
   "nbconvert_exporter": "python",
   "pygments_lexer": "ipython3",
   "version": "3.10.5"
  }
 },
 "nbformat": 4,
 "nbformat_minor": 5
}
